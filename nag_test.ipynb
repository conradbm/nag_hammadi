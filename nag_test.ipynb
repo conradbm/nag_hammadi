{
 "cells": [
  {
   "cell_type": "code",
   "execution_count": 212,
   "metadata": {
    "collapsed": false,
    "deletable": true,
    "editable": true
   },
   "outputs": [],
   "source": [
    "\n",
    "###\n",
    "### Important libraries\n",
    "###\n",
    "from __future__ import division\n",
    "import urllib2\n",
    "from bs4 import BeautifulSoup\n",
    "import re\n",
    "from collections import defaultdict\n",
    "\n",
    "###\n",
    "### Defined functions to manage repetitive tasks\n",
    "###\n",
    "def scrape_page(some_url):\n",
    "    quote_page = some_url\n",
    "    page = urllib2.urlopen(quote_page)\n",
    "    soup = BeautifulSoup(page, \"html.parser\")\n",
    "    return soup\n",
    "\n",
    "def handle_prefix_initial(prefix,s):\n",
    "    if s[0] == prefix:\n",
    "        return s[1:]\n",
    "    else:\n",
    "        return s\n",
    "def handle_prefix_word(prefix,s):\n",
    "    if prefix in s:\n",
    "        return s[8:]\n",
    "    else:\n",
    "        return s\n",
    "def regex_on_html(yourRegex, yourHTML):\n",
    "    result_set = re.finditer(yourRegex, yourHTML)\n",
    "    results = map(lambda x: x.groups(),result_set)\n",
    "    return results\n",
    "\n",
    "def filter_non_asci(s):\n",
    "    import string\n",
    "    printable = set(string.printable)\n",
    "    return filter(lambda x: x in printable, s)\n",
    "    \n",
    "def handler(verse, version=\"\"):\n",
    "    if version==\"\":\n",
    "        return False\n",
    "    elif version == \"lambdins\":\n",
    "        verse = removeDuplicateSpaces(verse)\n",
    "        verse = verse.replace('\\\\', '')\n",
    "        verse = verse.replace('<br/>', '')\n",
    "        verse = verse.replace('\\'', \"\\\"\")\n",
    "        return verse\n",
    "    elif version == \"davies\":\n",
    "        verse = removeDuplicateSpaces(verse)\n",
    "        verse = verse.replace('\\\\', '')\n",
    "        verse = verse.replace('<br/>', '')\n",
    "        verse = verse.replace('\\'', \"\\\"\")\n",
    "        return verse\n",
    "    elif version == \"meyers\":\n",
    "        verse = filter_non_asci(verse)\n",
    "        verse = verse.replace('\\'', \"\\\"\")\n",
    "        verse = removeDuplicateSpaces(verse)\n",
    "        return verse\n",
    "    elif version == \"davies\":\n",
    "        return False\n",
    "    \n",
    "###\n",
    "### Lambdas to help with repeditive tasks\n",
    "###\n",
    "removeDuplicateSpaces = (lambda verse: ' '.join(verse.split()))"
   ]
  },
  {
   "cell_type": "code",
   "execution_count": 213,
   "metadata": {
    "collapsed": false,
    "deletable": true,
    "editable": true
   },
   "outputs": [
    {
     "name": "stdout",
     "output_type": "stream",
     "text": [
      "Link: gthlamb.html \tTranslation: Lambdin Translation\n",
      "Link: gosthom-meyer.html \tTranslation: Meyer Translation\n",
      "Link: gosthom-davies.html \tTranslation: Davies Translation\n",
      "Link: gosthom.html \tTranslation: Patterson and Meyer Translation\n",
      "Link: gth_pat_rob.htm \tTranslation: Patterson and Robinson Translation\n",
      "\n",
      "Lambdin Complete:  (1) And he said, \"Whoever finds the interpretation of these sayings will not experience death.\"\n",
      "Meyer Complete:  These are the hidden sayings that the living Yeshua spoke and Yehuda Toma the twin recorded.\n"
     ]
    }
   ],
   "source": [
    "###\n",
    "### Main page pre/post scrape\n",
    "###\n",
    "\n",
    "site = \"http://www.gnosis.org/naghamm/nhl_thomas.htm\"\n",
    "root = \"http://www.gnosis.org/naghamm/\"\n",
    "site_html = scrape_page(site)\n",
    "site_html_string = str(site_html)\n",
    "\n",
    "\n",
    "###\n",
    "### Scraping and cleaning to house our raw translation data\n",
    "###\n",
    "\n",
    "results = regex_on_html(\"<p>(<strong>)*<a href=\\\"(.*?)\\\">(.*?)</a>?(</strong>)*</p>\", site_html_string)\n",
    "\n",
    "translations=defaultdict(list)\n",
    "for item in results[1:-1]:\n",
    "    link=handle_prefix_initial(\"/\",item[1])\n",
    "    link=handle_prefix_word(\"naghamm\", link)\n",
    "    trans=re.sub(r'\\<.*?>', '', item[2])\n",
    "    print \"Link:\",link, \"\\t\", \"Translation:\", trans\n",
    "    translations[trans].append(root + link)\n",
    "print\n",
    "translations\n",
    "\n",
    "\n",
    "###\n",
    "### Append the raw html to the dict object\n",
    "###\n",
    "for k,v in translations.items():\n",
    "    html = scrape_page(v[0])\n",
    "    html_str = str(html)\n",
    "    translations[k].append(html_str)\n",
    "    \n",
    "    \n",
    "    \n",
    "###\n",
    "### Get a regex for each each translation\n",
    "### Three translations should be enough ...\n",
    "###\n",
    "\n",
    "# lambdins translation\n",
    "translations[\"Lambdin Translation\"][0]\n",
    "translations[\"Lambdin Translation\"][1] = translations[\"Lambdin Translation\"][1].replace(\"\\n\",\"\")\n",
    "resultset_lambdins = re.findall(r'<p>(\\(\\d*\\).*?)<\\/p>',translations[\"Lambdin Translation\"][1])\n",
    "translations[\"Lambdin Translation\"].append(resultset_lambdins)\n",
    "translations[\"Lambdin Translation\"][2] = [handler(v, \"lambdins\") for v in translations[\"Lambdin Translation\"][2]]\n",
    "print \"Lambdin Complete: \", translations[\"Lambdin Translation\"][2][0]\n",
    "\n",
    "# meyers translation\n",
    "translations[\"Meyer Translation\"][0]\n",
    "translations[\"Meyer Translation\"][1] = translations[\"Meyer Translation\"][1].replace(\"\\n\", \"\")\n",
    "translations[\"Meyer Translation\"][1] = translations[\"Meyer Translation\"][1].replace(\"<br/>\", \"\")\n",
    "translations[\"Meyer Translation\"][1] = removeDuplicateSpaces(translations[\"Meyer Translation\"][1])\n",
    "resultset_meyers = re.findall(r'<p align=\\\"center\\\">(.*?)<\\/p>', translations[\"Meyer Translation\"][1])\n",
    "resultset_meyers = resultset_meyers[7:-1][0].split(\"\\xc2\\xa0\")\n",
    "ls1 = [handler(v, \"meyers\") for v in resultset_meyers]\n",
    "translations[\"Meyer Translation\"].append(ls1)\n",
    "translations[\"Meyer Translation\"][2] = filter(None, translations[\"Meyer Translation\"][2])\n",
    "s=' '.join([s for s in translations[\"Meyer Translation\"][2][1:]])\n",
    "l = re.compile(\"\\(\\d+\\)\").split(s)\n",
    "translations[\"Meyer Translation\"][2][1:] = l[1:]\n",
    "print \"Meyer Complete: \", translations[\"Meyer Translation\"][2][0]"
   ]
  },
  {
   "cell_type": "code",
   "execution_count": null,
   "metadata": {
    "collapsed": false,
    "deletable": true,
    "editable": true
   },
   "outputs": [],
   "source": [
    "### NEXT UP DAVIES TRANSLATION, \n",
    "### PATTERSON AND MEYER TRANSLATION,\n",
    "### AND PATTERSON AND ROBINSON TRANSLATION.\n",
    "\n",
    "# davies translation\n",
    "translations[\"Davies Translation\"][0]\n",
    "translations[\"Davies Translation\"][1] = translations[\"Davies Translation\"][1].replace(\"\\n\",\"\")\n",
    "translations[\"Davies Translation\"][1] = translations[\"Davies Translation\"][1].replace(\"<br/>\",\"\")\n",
    "resultset_davies = re.findall(r'<p>(\\d+..*?)<\\/p>',translations[\"Davies Translation\"][1])\n",
    "translations[\"Davies Translation\"].append(resultset_davies)\n",
    "[handler(v, \"davies\") for v in translations[\"Davies Translation\"][2]]"
   ]
  },
  {
   "cell_type": "code",
   "execution_count": 210,
   "metadata": {
    "collapsed": false,
    "deletable": true,
    "editable": true
   },
   "outputs": [],
   "source": [
    "\n"
   ]
  },
  {
   "cell_type": "code",
   "execution_count": null,
   "metadata": {
    "collapsed": false,
    "deletable": true,
    "editable": true
   },
   "outputs": [],
   "source": []
  },
  {
   "cell_type": "code",
   "execution_count": null,
   "metadata": {
    "collapsed": false,
    "deletable": true,
    "editable": true
   },
   "outputs": [],
   "source": [
    "\n",
    "\n",
    "\n"
   ]
  },
  {
   "cell_type": "code",
   "execution_count": 48,
   "metadata": {
    "collapsed": false,
    "deletable": true,
    "editable": true
   },
   "outputs": [],
   "source": []
  },
  {
   "cell_type": "code",
   "execution_count": null,
   "metadata": {
    "collapsed": false,
    "deletable": true,
    "editable": true
   },
   "outputs": [],
   "source": []
  },
  {
   "cell_type": "code",
   "execution_count": null,
   "metadata": {
    "collapsed": true
   },
   "outputs": [],
   "source": []
  }
 ],
 "metadata": {
  "kernelspec": {
   "display_name": "Python 2",
   "language": "python",
   "name": "python2"
  },
  "language_info": {
   "codemirror_mode": {
    "name": "ipython",
    "version": 2
   },
   "file_extension": ".py",
   "mimetype": "text/x-python",
   "name": "python",
   "nbconvert_exporter": "python",
   "pygments_lexer": "ipython2",
   "version": "2.7.10"
  }
 },
 "nbformat": 4,
 "nbformat_minor": 2
}
