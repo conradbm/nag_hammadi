{
 "cells": [
  {
   "cell_type": "code",
   "execution_count": 76,
   "metadata": {
    "collapsed": false,
    "deletable": true,
    "editable": true
   },
   "outputs": [],
   "source": [
    "\n",
    "###\n",
    "### Important libraries\n",
    "###\n",
    "from __future__ import division\n",
    "import urllib2\n",
    "from bs4 import BeautifulSoup\n",
    "import re\n",
    "from collections import defaultdict\n",
    "\n",
    "###\n",
    "### Helper functions to manage repetitive tasks\n",
    "###\n",
    "def scrape_page(some_url):\n",
    "    quote_page = some_url\n",
    "    page = urllib2.urlopen(quote_page)\n",
    "    soup = BeautifulSoup(page, \"html.parser\")\n",
    "    return soup\n",
    "\n",
    "def handle_prefix_initial(prefix,s):\n",
    "    if s[0] == prefix:\n",
    "        return s[1:]\n",
    "    else:\n",
    "        return s\n",
    "def handle_prefix_word(prefix,s):\n",
    "    if prefix in s:\n",
    "        return s[8:]\n",
    "    else:\n",
    "        return s\n",
    "def regex_on_html(yourRegex, yourHTML):\n",
    "    result_set = re.finditer(yourRegex, yourHTML)\n",
    "    results = map(lambda x: x.groups(),result_set)\n",
    "    return results\n",
    "\n"
   ]
  },
  {
   "cell_type": "code",
   "execution_count": 77,
   "metadata": {
    "collapsed": false,
    "deletable": true,
    "editable": true
   },
   "outputs": [],
   "source": [
    "###\n",
    "### Main page pre/post scrape\n",
    "###\n",
    "\n",
    "site = \"http://www.gnosis.org/naghamm/nhl_thomas.htm\"\n",
    "root = \"http://www.gnosis.org/naghamm/\"\n",
    "site_html = scrape_page(site)\n",
    "site_html_string = str(site_html)\n"
   ]
  },
  {
   "cell_type": "code",
   "execution_count": 78,
   "metadata": {
    "collapsed": false,
    "deletable": true,
    "editable": true
   },
   "outputs": [
    {
     "name": "stdout",
     "output_type": "stream",
     "text": [
      "gthlamb.html\n",
      "Link: gthlamb.html \tTranslation: Lambdin Translation\n",
      "gosthom-meyer.html\n",
      "Link: gosthom-meyer.html \tTranslation: Meyer Translation\n",
      "gosthom-davies.html\n",
      "Link: gosthom-davies.html \tTranslation: Davies Translation\n",
      "gosthom.html\n",
      "Link: gosthom.html \tTranslation: Patterson and Meyer Translation\n",
      "gth_pat_rob.htm\n",
      "Link: gth_pat_rob.htm \tTranslation: Patterson and Robinson Translation\n"
     ]
    },
    {
     "data": {
      "text/plain": [
       "defaultdict(list,\n",
       "            {'Davies Translation': ['http://www.gnosis.org/naghamm/gosthom-davies.html'],\n",
       "             'Lambdin Translation': ['http://www.gnosis.org/naghamm/gthlamb.html'],\n",
       "             'Meyer Translation': ['http://www.gnosis.org/naghamm/gosthom-meyer.html'],\n",
       "             'Patterson and Meyer Translation': ['http://www.gnosis.org/naghamm/gosthom.html'],\n",
       "             'Patterson and Robinson Translation': ['http://www.gnosis.org/naghamm/gth_pat_rob.htm']})"
      ]
     },
     "execution_count": 78,
     "metadata": {},
     "output_type": "execute_result"
    }
   ],
   "source": [
    "###\n",
    "### Scraping and cleaning to house our raw translation data\n",
    "###\n",
    "\n",
    "results = regex_on_html(\"<p>(<strong>)*<a href=\\\"(.*?)\\\">(.*?)</a>?(</strong>)*</p>\", site_html_string)\n",
    "\n",
    "translations=defaultdict(list)\n",
    "for item in results[1:-1]:\n",
    "    link=handle_prefix_initial(\"/\",item[1])\n",
    "    link=handle_prefix_word(\"naghamm\", link)\n",
    "    trans=re.sub(r'\\<.*?>', '', item[2])\n",
    "    print \"Link:\",link, \"\\t\", \"Translation:\", trans\n",
    "    translations[trans].append(root + link)\n",
    "translations"
   ]
  },
  {
   "cell_type": "code",
   "execution_count": 67,
   "metadata": {
    "collapsed": false,
    "deletable": true,
    "editable": true
   },
   "outputs": [],
   "source": [
    "###\n",
    "### Append the raw html to the dict object\n",
    "###\n",
    "for k,v in translations.items():\n",
    "    html = scrape_page(v[0])\n",
    "    html_str = str(html)\n",
    "    translations[k].append(html_str)"
   ]
  },
  {
   "cell_type": "raw",
   "metadata": {
    "deletable": true,
    "editable": true
   },
   "source": []
  },
  {
   "cell_type": "code",
   "execution_count": null,
   "metadata": {
    "collapsed": false
   },
   "outputs": [],
   "source": []
  },
  {
   "cell_type": "code",
   "execution_count": null,
   "metadata": {
    "collapsed": true
   },
   "outputs": [],
   "source": []
  }
 ],
 "metadata": {
  "kernelspec": {
   "display_name": "Python 2",
   "language": "python",
   "name": "python2"
  },
  "language_info": {
   "codemirror_mode": {
    "name": "ipython",
    "version": 2
   },
   "file_extension": ".py",
   "mimetype": "text/x-python",
   "name": "python",
   "nbconvert_exporter": "python",
   "pygments_lexer": "ipython2",
   "version": "2.7.10"
  }
 },
 "nbformat": 4,
 "nbformat_minor": 2
}
