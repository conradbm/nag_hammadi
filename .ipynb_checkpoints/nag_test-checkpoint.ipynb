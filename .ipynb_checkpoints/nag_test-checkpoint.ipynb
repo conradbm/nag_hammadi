{
 "cells": [
  {
   "cell_type": "code",
   "execution_count": 100,
   "metadata": {
    "collapsed": false,
    "deletable": true,
    "editable": true
   },
   "outputs": [],
   "source": [
    "\n",
    "###\n",
    "### Important libraries\n",
    "###\n",
    "from __future__ import division\n",
    "import urllib2\n",
    "from bs4 import BeautifulSoup\n",
    "import re\n",
    "from collections import defaultdict\n",
    "\n",
    "###\n",
    "### Helper functions to manage repetitive tasks\n",
    "###\n",
    "def scrape_page(some_url):\n",
    "    quote_page = some_url\n",
    "    page = urllib2.urlopen(quote_page)\n",
    "    soup = BeautifulSoup(page, \"html.parser\")\n",
    "    return soup\n",
    "\n",
    "def handle_prefix_initial(prefix,s):\n",
    "    if s[0] == prefix:\n",
    "        return s[1:]\n",
    "    else:\n",
    "        return s\n",
    "def handle_prefix_word(prefix,s):\n",
    "    if prefix in s:\n",
    "        return s[8:]\n",
    "    else:\n",
    "        return s\n",
    "def regex_on_html(yourRegex, yourHTML):\n",
    "    result_set = re.finditer(yourRegex, yourHTML)\n",
    "    results = map(lambda x: x.groups(),result_set)\n",
    "    return results\n",
    "\n"
   ]
  },
  {
   "cell_type": "code",
   "execution_count": 101,
   "metadata": {
    "collapsed": false,
    "deletable": true,
    "editable": true
   },
   "outputs": [],
   "source": [
    "###\n",
    "### Main page pre/post scrape\n",
    "###\n",
    "\n",
    "site = \"http://www.gnosis.org/naghamm/nhl_thomas.htm\"\n",
    "root = \"http://www.gnosis.org/naghamm/\"\n",
    "site_html = scrape_page(site)\n",
    "site_html_string = str(site_html)\n"
   ]
  },
  {
   "cell_type": "code",
   "execution_count": 102,
   "metadata": {
    "collapsed": false,
    "deletable": true,
    "editable": true
   },
   "outputs": [
    {
     "name": "stdout",
     "output_type": "stream",
     "text": [
      "Link: gthlamb.html \tTranslation: Lambdin Translation\n",
      "Link: gosthom-meyer.html \tTranslation: Meyer Translation\n",
      "Link: gosthom-davies.html \tTranslation: Davies Translation\n",
      "Link: gosthom.html \tTranslation: Patterson and Meyer Translation\n",
      "Link: gth_pat_rob.htm \tTranslation: Patterson and Robinson Translation\n"
     ]
    },
    {
     "data": {
      "text/plain": [
       "defaultdict(list,\n",
       "            {'Davies Translation': ['http://www.gnosis.org/naghamm/gosthom-davies.html'],\n",
       "             'Lambdin Translation': ['http://www.gnosis.org/naghamm/gthlamb.html'],\n",
       "             'Meyer Translation': ['http://www.gnosis.org/naghamm/gosthom-meyer.html'],\n",
       "             'Patterson and Meyer Translation': ['http://www.gnosis.org/naghamm/gosthom.html'],\n",
       "             'Patterson and Robinson Translation': ['http://www.gnosis.org/naghamm/gth_pat_rob.htm']})"
      ]
     },
     "execution_count": 102,
     "metadata": {},
     "output_type": "execute_result"
    }
   ],
   "source": [
    "###\n",
    "### Scraping and cleaning to house our raw translation data\n",
    "###\n",
    "\n",
    "results = regex_on_html(\"<p>(<strong>)*<a href=\\\"(.*?)\\\">(.*?)</a>?(</strong>)*</p>\", site_html_string)\n",
    "\n",
    "translations=defaultdict(list)\n",
    "for item in results[1:-1]:\n",
    "    link=handle_prefix_initial(\"/\",item[1])\n",
    "    link=handle_prefix_word(\"naghamm\", link)\n",
    "    trans=re.sub(r'\\<.*?>', '', item[2])\n",
    "    print \"Link:\",link, \"\\t\", \"Translation:\", trans\n",
    "    translations[trans].append(root + link)\n",
    "translations"
   ]
  },
  {
   "cell_type": "code",
   "execution_count": 103,
   "metadata": {
    "collapsed": false,
    "deletable": true,
    "editable": true
   },
   "outputs": [],
   "source": [
    "###\n",
    "### Append the raw html to the dict object\n",
    "###\n",
    "for k,v in translations.items():\n",
    "    html = scrape_page(v[0])\n",
    "    html_str = str(html)\n",
    "    translations[k].append(html_str)"
   ]
  },
  {
   "cell_type": "raw",
   "metadata": {
    "deletable": true,
    "editable": true
   },
   "source": []
  },
  {
   "cell_type": "code",
   "execution_count": 29,
   "metadata": {
    "collapsed": false,
    "deletable": true,
    "editable": true
   },
   "outputs": [
    {
     "data": {
      "text/plain": [
       "'http://www.gnosis.org/naghamm/gthlamb.html'"
      ]
     },
     "execution_count": 29,
     "metadata": {},
     "output_type": "execute_result"
    }
   ],
   "source": []
  },
  {
   "cell_type": "code",
   "execution_count": 107,
   "metadata": {
    "collapsed": false,
    "deletable": true,
    "editable": true
   },
   "outputs": [
    {
     "data": {
      "text/plain": [
       "'1. And he said, \"Whoever discovers the interpretation of these sayings will not            taste death.\" '"
      ]
     },
     "execution_count": 107,
     "metadata": {},
     "output_type": "execute_result"
    }
   ],
   "source": [
    "###\n",
    "### Get a regex for each each translation\n",
    "### Three translations should be enough ...\n",
    "###\n",
    "\n",
    "# lambdins translation\n",
    "translations[\"Lambdin Translation\"][0]\n",
    "translations[\"Lambdin Translation\"][1] = translations[\"Lambdin Translation\"][1].replace(\"\\n\",\"\")\n",
    "resultset_lambdins = re.findall(r'<p>(\\(\\d*\\).*?)<\\/p>',translations[\"Lambdin Translation\"][1])\n",
    "translations[\"Lambdin Translation\"].append(resultset_lambdins)\n",
    "\n",
    "# davies translation\n",
    "translations[\"Davies Translation\"][0]\n",
    "translations[\"Davies Translation\"][1] = translations[\"Davies Translation\"][1].replace(\"\\n\",\"\")\n",
    "translations[\"Davies Translation\"][1] = translations[\"Davies Translation\"][1].replace(\"<br/>\",\"\")\n",
    "resultset_davies = re.findall(r'<p>(\\d+..*?)<\\/p>',translations[\"Davies Translation\"][1])\n",
    "translations[\"Davies Translation\"].append(resultset_davies)\n",
    "\n",
    "# meyers translation\n",
    "translations[\"Meyer Translation\"][0]\n",
    "translations[\"Meyer Translation\"][1] = translations[\"Meyer Translation\"][1].replace(\"\\n\", \"\")\n",
    "translations[\"Meyer Translation\"][1] = translations[\"Meyer Translation\"][1].replace(\"<br/>\", \"\")\n",
    "resultset_meyers = re.findall(r'(\\(\\d+\\).*)', translations[\"Meyer Translation\"][1])\n",
    "\n",
    "    # additional cleanup, nahmean?\n",
    "import string\n",
    "printable = set(string.printable)\n",
    "resultset_meyers[0] = filter(lambda x: x in printable, resultset_meyers[0])\n",
    "resultset_meyers[0]\n",
    "translations[\"Meyer Translation\"].append(resultset_meyers[0])\n"
   ]
  },
  {
   "cell_type": "code",
   "execution_count": 59,
   "metadata": {
    "collapsed": false,
    "deletable": true,
    "editable": true
   },
   "outputs": [
    {
     "data": {
      "text/plain": [
       "'<!DOCTYPE HTML PUBLIC \"-//IETF//DTD HTML//EN\"><html><head><meta content=\"text/html; charset=utf-8\" http-equiv=\"Content-Type\"/><meta content=\"The Gospel of Thomas, trans. Marvin Meyer, from the Nag Hammadi Library. This site includes the entire Hammadi Library, as well as a large collection of other primary Gnostic scriptures and documents.\" name=\"description\"/><title>The Gospel of Thomas - Marvin Meyer - The Nag Hammadi Library</title><style>\\ta {text-decoration:none}\\ta:hover {color: #FF9900; text-decoration: none} \\t\\t\\t\\t\\t\\tbody,td,th {\\tfont-family: Times New Roman, Times, serif;\\t\\t\\t \\tfont-size:110%;\\t}</style></head><body alink=\"#FF0000\" background=\"../images/bkg1.jpg\" link=\"#0000EE\" text=\"#000000\" vlink=\"#0000EE\"><table border=\"0\" cellpadding=\"10\" cellspacing=\"0\"><tr><td align=\"left\" valign=\"top\" width=\"155\"><img alt=\\'First page of \"Gospel of Thomas\" coptic manuscript. (Photo Courtesy of the Institute for Antiquity and Christianity, Claremont Graduate University)\\' height=\"261\" src=\"/images/coptic.gif\" title=\\'First page of \"Gospel of Thomas\" coptic manuscript. (Photo Courtesy of the Institute for Antiquity and Christianity, Claremont Graduate University)\\' width=\"145\"/><br clear=\"all\"/><p><a href=\"nhl.html\"><img alt=\"Nag Hammadi Library main page\" height=\"25\" src=\"../images/butnhl.gif\" width=\"140\"/></a></p><p><a href=\"nhlintro.html\"><img alt=\"Introduction to Gnosticism and the Nag Hammadi Library\" height=\"25\" src=\"../images/butintro.gif\" width=\"140\"/></a></p><p><a href=\"nhlalpha.html\"><img alt=\"Alphabetic Index of the Nag Hammadi Library\" height=\"25\" src=\"../images/butalpha.gif\" width=\"140\"/></a></p><p><a href=\"nhlcodex.html\"><img alt=\"Codex Index of the Nag Hammadi Library\" height=\"25\" src=\"../images/butcodex.gif\" width=\"140\"/></a></p><p><a href=\"nhl_thomas.htm\"><img alt=\"Gospel of Thomas Collection\" height=\"25\" src=\"../images/butgth.gif\" width=\"140\"/></a></p><p><a href=\"nhsearch.html\"><img alt=\"Search the Nag Hammadi Library\" height=\"25\" src=\"../images/butnhlsr.gif\" width=\"140\"/></a></p><p><a href=\"../library.html\"><img alt=\"Return to The Gnostic Society Library page\" height=\"25\" src=\"../images/libbut.gif\" width=\"140\"/></a></p><p><a href=\"../welcome.html\"><img alt=\"Return to The Gnosis Archive main page\" height=\"25\" src=\"../images/butgnarch.gif\" width=\"140\"/></a></p><p>\\xc2\\xa0</p><h6><font face=\"Arial Narrow\">(Above image of the Gospel of Thomas courtesy of the    Institute for Antiquity and Christianity, Claremont Graduate University) </font></h6><p>\\xc2\\xa0</p><h6><font face=\"Arial Narrow\"><em>Visit the <a href=\"../bookstore1.htm\">Bookstore</a> for    a complete selection of translations and books about The Gospel of Thomas </em></font></h6><p><a href=\"../bookstore1.htm\" target=\"_blank\"><img align=\"left\" alt=\"The Fifth Gospel,  by Stephen Patterson\" border=\"2\" height=\"140\" hspace=\"10\" src=\"../images/Bookstore/gotage.gif\" width=\"88\"/></a></p><p><br clear=\"all\"/></p><p>\\xc2\\xa0</p><p><a href=\"../bookstore1.htm\" target=\"_blank\"><img align=\"left\" alt=\"The Nag Hammadi Library, edited by James Robinson (Click to visit theBookstore and buy the book)\" border=\"2\" height=\"140\" hspace=\"10\" src=\"../images/Bookstore/naghammadi.gif\" vspace=\"10\" width=\"93\"/></a></p></td><td> <p align=\"center\"><img alt=\"The Gnostic Society Library\" height=\"43\" src=\"/images/GnosticSocietyLibrary.gif\" title=\"The Gnostic Society Library - gnosis.org\" width=\"521\"/></p><p align=\"center\"><strong><font size=\"5\">The Nag Hammadi Library </font></strong></p><h3 align=\"center\">The Gospel of Thomas </h3><hr/><p align=\"center\"><strong>Translated by Marvin Meyer</strong></p><blockquote><blockquote><p align=\"center\"><em>This original translation by Marvin Meyer of </em>The Gospel of Thomas<em> is presented in the Gnostic Society Library      by  permission  and under license from the copyright holder. It is reproduced  in </em><a href=\"http://www.amazon.com/exec/obidos/ASIN/1590306317/ref=nosim/gnosisarchive\">The Gnostic Bible</a>, \\xc2\\xa9<em> 2003, Willis Barnstone &amp; Marvin Meyer.</em></p></blockquote></blockquote><p align=\"center\"><em>(Visit the <a href=\"nhl_thomas.htm\">Gospel of Thomas Collection</a>  for other translations and additional information)</em></p><p align=\"center\"><em>_____________________________________</em></p><p align=\"center\">\\xc2\\xa0</p><blockquote><blockquote><h3 align=\"center\">THE GOSPEL OF THOMAS</h3><p align=\"center\">\\xc2\\xa0          These are the hidden sayings that the living Yeshua spoke and Yehuda Toma the twin recorded.           \\xc2\\xa0          (1)          And he said,           Whoever discovers what these sayings mean           will not taste death.          \\xc2\\xa0          (2)          Yeshua said,          Seek and do not stop seeking until you find.          When you find, you will be troubled.          When you are troubled,          you will marvel and rule over all.           \\xc2\\xa0          (3)          Yeshua said,          If your leaders tell you, \\xe2\\x80\\x9cLook, the kingdom is in heaven,\\xe2\\x80\\x9d          then the birds of heaven will precede you.          If they say to you, \\xe2\\x80\\x9cIt\\xe2\\x80\\x99s in the sea,\\xe2\\x80\\x9d           then the fish will precede you.          But the kingdom is inside you and it is outside you.          When you know yourselves, \\xc2\\xa0then you will be known,          and you will understand that you are children of the living father.          But if you do not know yourselves,          then you dwell in poverty and you are poverty.          \\xc2\\xa0          (4)          Yeshua said,          A person old in days          will not hesitate to ask a little child          seven days old \\xc2\\xa0about the place of life,          and the person will live.           For many of the first will be last          and become a single one.          \\xc2\\xa0          (5)          Yeshua said,          Know what is in front of your face          and what is hidden from you will be disclosed.          There is nothing hidden that will not be revealed.           \\xc2\\xa0          (6)          His students asked him and said to him,          Do you want us to fast?          How should we pray?          Should we give to charity?          What diet should we observe?           \\xc2\\xa0          Yeshua said,          Do not lie and do not do what you hate.           All things are disclosed before heaven.          There is nothing hidden that will not be revealed,          nothing covered that will remain undisclosed.          \\xc2\\xa0          (7)          Yeshua said,          Blessings on the lion if a human eats it,          making the lion human.          Foul is the human if a lion eats it,          making the lion human.           \\xc2\\xa0          (8)          And he said,          Humankind is like a wise fisherman who cast his net into the sea          and drew it up from the sea full of little fish.          Among the fish he found a fine large fish.          He threw all the little fish back into the sea          and easily chose the large fish.          Whoever has ears to hear should hear.          \\xc2\\xa0          (9)          Yeshua said,          Look, the sower went out, took a handful of seeds,          and scattered them.          Some fell on the road          and the birds came and pecked them up.          Others fell on rock          and they did not take root in the soil          and did not produce heads of grain.          Others fell on thorns          and they choked the seeds          and worms devoured them.          And others fell on good soil          and it brought forth a good crop,          yielding sixty per measure and one hundred twenty per measure.          \\xc2\\xa0          (10)          Yeshua said,          I have thrown fire upon the world,          and look, I am watching till it blazes.          \\xc2\\xa0          (11)          Yeshua said,          This heaven will pass away          and the one above it will pass away.          The dead are not alive          and the living will not die.          During the days when you ate what is dead          you made it alive.          When you are in the light, what will you do?          On the day when you were one          you became two.          But when you become two, what will you do?           \\xc2\\xa0          (12)          The students said to Yeshua,          We know you will leave us.          Who will be our leader?          \\xc2\\xa0          Yeshua said to them,          Wherever you are, seek out Yaakov the just.           For his sake heaven and earth came into being.          \\xc2\\xa0          (13)          Yeshua said to his students,          Compare me to something          and tell me what I am like.          \\xc2\\xa0          Shimon Kefa \\xc2\\xa0said to him,          You are like a just messenger.          \\xc2\\xa0          Matai \\xc2\\xa0said to him,          You are like a wise philosopher.          \\xc2\\xa0          Toma \\xc2\\xa0said to him,          Rabbi, \\xc2\\xa0my mouth is utterly unable to say          what you are like.          \\xc2\\xa0          Yeshua said,          I am not your rabbi.          Because you have drunk, you are intoxicated          from the bubbling spring I tended.           \\xc2\\xa0          And he took him and withdrew, and spoke three sayings \\xc2\\xa0to him.          \\xc2\\xa0          When Toma came back to his friends, they asked him,          What did Yeshua say to you?          \\xc2\\xa0          Toma said to them,          If I tell you one of the sayings he spoke to me,          you will pick up rocks and stone me           and fire will come out of the rocks and consume you.          \\xc2\\xa0          (14)          Yeshua said to them,          If you fast you will bring sin upon yourselves,          and if you pray you will be condemned,          and if you give to charity you will harm your spirits.           When you go into any region and walk through the countryside,          and people receive you, eat what they serve you          and heal the sick among them.          What goes into your mouth will not defile you,          but what comes out of your mouth will defile you.          \\xc2\\xa0          (15)          Yeshua said,          When you see one not born of woman,          fall on your faces and worship.          That is your father.          \\xc2\\xa0          (16)          Yeshua said,          People may think I have come to impose peace upon the world.          They do not know that I have come to impose conflicts upon the earth: fire, sword, war.          For there will be five in a house.          There will be three against two and two against three,          father against son and son against father,          and they will stand alone.          \\xc2\\xa0          (17)          Yeshua said,          I shall give you what no eye has seen, what no ear has heard,          what no hand has touched, what has not arisen in the human heart.           \\xc2\\xa0          (18)          The students said to Yeshua,          Tell us how our end will be.          \\xc2\\xa0          Yeshua said,          Have you discovered the beginning and now are seeking the end?          Where the beginning is, the end will be.          Blessings on you who stand at the beginning.          You will know the end and not taste death.          \\xc2\\xa0          (19)          Yeshua said,          Blessings on you who came into being          before coming into being.          If you become my students and hear my sayings,          these stones will serve you.          For there are five trees in paradise for you.          Summer or winter they do not change          and their leaves do not fall.          Whoever knows them will not taste death.           \\xc2\\xa0          (20)          The students said to Yeshua,          Tell us what the kingdom of heaven is like.          \\xc2\\xa0          He said to them,          It is like a mustard seed, the tiniest of seeds,           but when it falls on prepared soil,          it produces a great plant          and becomes a shelter for the birds of heaven.          \\xc2\\xa0          (21)          Miryam \\xc2\\xa0said to Yeshua,          What are your students like?          \\xc2\\xa0          He said,          They are like little children living in a field that is not theirs.          When the owners of the field come, they will say,          \\xe2\\x80\\x9cGive our field back to us.\\xe2\\x80\\x9d          The children take off their clothes in front of them          to give it back,          and they return their field to them.          So I say, if the owner of a house knows that a thief is coming,          he will be on guard before the thief arrives          and will not let the thief break into the house of his estate          and steal his possessions.          As for you, be on guard against the world.          Arm yourselves with great strength,          or the robbers will find a way to reach you,          for the trouble you expect will come.          Let someone among you understand.          When the crop ripened,          the reaper came quickly with sickle in hand          and harvested it.          Whoever has ears to hear should hear.          \\xc2\\xa0          (22)          Yeshua saw some babies nursing. He said to his students,          These nursing babies          are like those who enter the kingdom.          They said to him,          Then shall we enter the kingdom as babies?          \\xc2\\xa0          Yeshua said to them,          When you make the two into one,          and when you make the inner like the outer          and the outer like the inner          and the upper like the lower,          and when you make male and female into a single one,          so that the male will not be male nor the female be female,          when you make eyes in place of an eye,          a hand in place of a hand,          a foot in place of a foot,          an image in place of an image,          then you will enter the kingdom.           \\xc2\\xa0          (23)          Yeshua said,          I shall choose you as one from a thousand          and as two from ten thousand          and they will stand as a single one.          \\xc2\\xa0          (24)          His students said,          Show us the place where you are.          We must seek it.          \\xc2\\xa0          He said to them,          Whoever has ears should hear.          There is light within a person of light          and it shines on the whole world.          If it does not shine it is dark.           \\xc2\\xa0          (25)          Yeshua said,          Love your brother like your soul.          Protect that person like the pupil of your eye.          \\xc2\\xa0          (26)          Yeshua said,          You see the speck in your brother\\xe2\\x80\\x99s eye          but not the beam in your own eye.          When you take the beam out of your own eye,          then you will see clearly to take the speck out of your brother\\xe2\\x80\\x99s eye.          \\xc2\\xa0          (27)          If you do not fast from the world, you will not find the kingdom.          If you do not observe the Shabbat as Shabbat,           you will not see the father.          \\xc2\\xa0          (28)          Yeshua said,          I took my stand in the midst of the world,          and I appeared to them in flesh.          I found them all drunk          yet none of them thirsty.          My soul ached for the human children          because they are blind in their hearts          and do not see.          They came into the world empty          and seek to depart from the world empty.          But now they are drunk.          When they shake off their wine, they will repent.          \\xc2\\xa0          (29)          Yeshua said,          If the flesh came into being because of spirit,          it is a marvel,          but if spirit came into being because of body,          it is a marvel of marvels.          Yet I marvel at how this great wealth has come to dwell          in this poverty.          \\xc2\\xa0          (30)          Yeshua said,          Where there are three deities,          they are divine.          Where there are two or one,          I am with that one.           \\xc2\\xa0          (31)          Yeshua said,          A prophet is not accepted in the hometown.          A doctor does not heal those who know the doctor.          \\xc2\\xa0          (32)          Yeshua said,          A city built upon a high hill and fortified cannot fall,          nor can it be hidden.          \\xc2\\xa0          (33)          Yeshua said,          What you will hear in your ear          in the other ear \\xc2\\xa0proclaim from your rooftops.          No one lights a lamp and puts it under a basket,          nor in a hidden place.          You put it on a stand          so that all who come and go will see its light.          \\xc2\\xa0          (34)          Yeshua said,          If a blind person leads a blind person,          both will fall in a hole.          \\xc2\\xa0          (35)          Yeshua said,          You cannot enter the house of the strong          and take it by force without binding the owner\\xe2\\x80\\x99s hands.          Then you can loot the house.          \\xc2\\xa0          (36)          Yeshua said,          From morning to evening and from evening to morning,          do not worry about what you will wear.           \\xc2\\xa0          (37)          His students said,          When will you appear to us          and when shall we see you?          \\xc2\\xa0          Yeshua said,          When you strip naked without being ashamed          and take your clothes and put them under your feet          like small children and trample them,          then you will see the child of the living one          and you will not be afraid.          \\xc2\\xa0          (38)          Yeshua said,          Often you wanted to hear these sayings I am telling you,          and you have no one else from whom to hear them.          There will be days when you will seek me          and you will not find me.          \\xc2\\xa0          (39)          Yeshua said,          The Pharisees and the scholars have taken the keys of knowledge          and have hidden them.          They have not entered,          nor have they allowed those who want to enter          to go inside.          You should be shrewd as snakes and innocent as doves.          \\xc2\\xa0          (40)          Yeshua said,          A grapevine has been planted far from the father.          Since it is not strong          it will be pulled up by the root and perish.          \\xc2\\xa0          (41)          Yeshua said,          Whoever has something in hand will be given more          and whoever has nothing will be deprived          of the paltry things possessed.          \\xc2\\xa0          (42)          Yeshua said,          Be passersby.           \\xc2\\xa0          (43)          His students said to him,          Who are you to say these things to us?          \\xc2\\xa0          Yeshua said,          From what I tell you, you do not know          who I am,          but you have become like the Jews.          They love the tree but hate its fruit          or love the fruit but hate the tree.          \\xc2\\xa0          (44)          Yeshua said,          Whoever blasphemes against the father          will be forgiven,          and whoever blasphemes against the son          will be forgiven,          but whoever blasphemes against the holy spirit will not be forgiven,          either on earth or in heaven.          \\xc2\\xa0          (45)          Yeshua said,          Grapes are not harvested from thorn trees,          nor are figs gathered from thistles.          They yield no fruit.          A good person brings forth good from the storehouse.          A bad person brings forth evil things          from the corrupt storehouse in the heart          and says evil things.          From the abundance of the heart          such a person brings forth evil.          \\xc2\\xa0          (46)          Yeshua said,          From Adam to Yohanan the baptizer,           among those born of women,          no one of you is so much greater than Yohanan          that your eyes should not be averted.          But I have said that whoever among you becomes a child          will know the kingdom          and become greater than Yohanan.          \\xc2\\xa0          (47)          Yeshua said,          A person cannot mount two horses or bend two bows,          and a servant cannot serve two masters,          or the servant will honor one and offend the other.          No one who drinks aged wine          suddenly wants to drink new wine.          New wine is not poured into aged wineskins          or they may break,          and aged wine is not poured into a new wineskin          or it may spoil.          An old patch is not sewn onto a new garment          or it may tear.          \\xc2\\xa0          (48)          Yeshua said,          If two make peace with each other in one house,          they will tell the mountain, \\xe2\\x80\\x9cMove,\\xe2\\x80\\x9d          and the mountain will move.          \\xc2\\xa0          (49)          Yeshua said,          Blessings on you who are alone and chosen,          for you will find the kingdom.          You have come from it          and will return there again.          \\xc2\\xa0          (50)          Yeshua said,          If they say to you, \\xe2\\x80\\x9cWhere have you come from?\\xe2\\x80\\x9d          say to them, \\xe2\\x80\\x9cWe have come from the light,          from the place where the light came into being by itself,          established itself, and appeared in their image.\\xe2\\x80\\x9d          If they say to you, \\xe2\\x80\\x9cIs it you?\\xe2\\x80\\x9d          say, \\xe2\\x80\\x9cWe are its children and the chosen of the living father.\\xe2\\x80\\x9d          If they ask you, \\xe2\\x80\\x9cWhat is the evidence of your father in you?\\xe2\\x80\\x9d          say to them, \\xe2\\x80\\x9cIt is motion and rest.\\xe2\\x80\\x9d           \\xc2\\xa0          (51)          His students said to him,          When will the dead rest?          When will the new world come?          He said to them,          What you look for has come          but you do not know it.          \\xc2\\xa0          (52)          His students said to him,          Twenty-four prophets have spoken in Israel          and they all spoke of you.           \\xc2\\xa0          He said to them,          You have disregarded the living one among you          and have spoken of the dead.          \\xc2\\xa0          (53)          His students said to him,          Is circumcision useful or not?          \\xc2\\xa0          He said to them,          If it were useful, fathers would produce their children          already circumcised from their mothers.          But the true circumcision in spirit           is altogether valuable.          \\xc2\\xa0          (54)          Yeshua said,          Blessings on you the poor,          for yours is the kingdom of heaven.          \\xc2\\xa0          (55)          Yeshua said,          Those who do not hate their father and mother          cannot be my students,          and those who do not hate their brothers and sisters          and bear the cross \\xc2\\xa0as I do          will not be worthy of me.          \\xc2\\xa0          (56)          Yeshua said,          Whoever has come to know the world          has discovered a carcass,          and whoever has discovered a carcass,          of that person the world is not worthy.          \\xc2\\xa0          (57)          Yeshua said,          The father\\xe2\\x80\\x99s kingdom is like someone with good seed.          His enemy came at night and sowed weeds among the good seed.          He did not let them pull up the weeds          but said to them,          \\xe2\\x80\\x9cNo, or you might go to pull up the weeds          and pull up the wheat along with them.\\xe2\\x80\\x9d          On harvest day the weeds will be conspicuous          and will be pulled up and burned.          \\xc2\\xa0          (58)          Yeshua said,          Blessings on the person who has labored           and found life.          \\xc2\\xa0          (59)          Yeshua said,          Look to the living one as long as you live          or you may die and try to see the living one          and you will not be able to see.          \\xc2\\xa0          (60)          He saw a Samaritan carrying a lamb as he was going to the land of Yehuda.           \\xc2\\xa0          He said to his students,          That person is carrying          the lamb around.           \\xc2\\xa0          They said to him,          Then he may kill it          and eat it.          \\xc2\\xa0          He said to them,          He will not eat it while it is alive          but only after he has killed it          and it has become a carcass.          \\xc2\\xa0          They said,          Otherwise he cannot do it.          \\xc2\\xa0          He said to them,          So with you. Seek a place of rest          or you may become a carcass and be eaten.          \\xc2\\xa0          (61)          Yeshua said,          Two will rest on a couch. One will die, one will live.          \\xc2\\xa0          Salome said,          Who are you, mister? You have climbed on my couch          and eaten from my table as if you are from someone.           \\xc2\\xa0          Yeshua said to her,          I am the one who comes from what is whole.          I was given from the things of my father.          \\xc2\\xa0          Salome said,          I am your student.          \\xc2\\xa0          Yeshua said,          I say, if you are whole, \\xc2\\xa0you will be filled with light,          but if divided, you will be filled with darkness.          \\xc2\\xa0          (62)          Yeshua said,          I disclose my mysteries to those who are worthy          of my mysteries.           Do not let your left hand know          what your right hand is doing.          \\xc2\\xa0          (63)          Yeshua said,          There was a rich person who was very wealthy.          He said, \\xe2\\x80\\x9cI shall invest my money so I may sow, reap, plant,          and fill my storehouses with produce.          Then I shall lack nothing.\\xe2\\x80\\x9d          This is what he was thinking in his heart,          but that very night he died.          Whoever has ears should hear.          \\xc2\\xa0          (64)          Yeshua said,          A person was receiving guests. When he prepared the dinner          he sent his servant to invite the guests.          The servant went to the first and said,          \\xe2\\x80\\x9cMy master invites you.\\xe2\\x80\\x9d          \\xc2\\xa0          That person said,          \\xe2\\x80\\x9cSome merchants owe me money.          They are coming tonight.          I must go and give them instructions.          Please excuse me from dinner.\\xe2\\x80\\x9d          \\xc2\\xa0          The servant went to another and said,          \\xe2\\x80\\x9cMy master invites you.\\xe2\\x80\\x9d          \\xc2\\xa0          He said to the servant,          \\xe2\\x80\\x9cI have bought a house          and I\\xe2\\x80\\x99ve been called away for a day.          I have no time.\\xe2\\x80\\x9d          \\xc2\\xa0          The servant went to another and said,          \\xe2\\x80\\x9cMy master invites you.\\xe2\\x80\\x9d          \\xc2\\xa0          He said to the servant,          \\xe2\\x80\\x9cMy friend is to be married          and I am to arrange the banquet.          I can\\xe2\\x80\\x99t come. Please excuse me from dinner.\\xe2\\x80\\x9d          \\xc2\\xa0          The servant went to another and said,          \\xe2\\x80\\x9cMy master invites you.\\xe2\\x80\\x9d          \\xc2\\xa0          He said to the servant,          \\xe2\\x80\\x9cI have bought an estate          and I am going to collect rent.          I shall not be able to come. Please excuse me.\\xe2\\x80\\x9d          \\xc2\\xa0          The servant returned and said to his master,          \\xe2\\x80\\x9cThose you invited to dinner have asked to be excused.\\xe2\\x80\\x9d          \\xc2\\xa0          The master said to his servant,          \\xe2\\x80\\x9cGo out into the streets and invite whomever you find for the dinner.          Buyers and merchants will not enter the places of my father.\\xe2\\x80\\x9d          \\xc2\\xa0          (65)          He said,          A usurer \\xc2\\xa0owned a vineyard and rented it          to some farmers to work it          and from them he would collect its produce.          He sent his servant for the farmers to give him          the produce of the vineyard. They seized, beat,          and almost killed his servant, who returned          and told his master. His master said,          \\xe2\\x80\\x9cPerhaps he did not know them.\\xe2\\x80\\x9d And he sent          another servant, but they beat him as well.          Then the master sent his son and said,          \\xe2\\x80\\x9cPerhaps they will respect my son.\\xe2\\x80\\x9d          Since the farmers knew the son was the heir          of the vineyard, they seized him and killed him.          Whoever has ears should hear.          \\xc2\\xa0          (66)          Yeshua said,          Show me the stone that the builders rejected.          That is the cornerstone.          \\xc2\\xa0          (67)          Yeshua said,          One who knows all but lacks within          is utterly lacking.          \\xc2\\xa0          (68)          Yeshua said,          Blessings on you when you are hated and persecuted,          and no place will be found,          wherever you are persecuted.           \\xc2\\xa0          (69)          Yeshua said,          Blessings on you who have been persecuted in your hearts.          Only you truly know the father.          Blessings on you who are hungry          that the stomach of someone else in want may be filled.          \\xc2\\xa0          (70)          Yeshua said,          If you bring forth what is within you, what you have will save you.          If you have nothing within you,          what you do not have within you will kill you.          \\xc2\\xa0          (71)          Yeshua said,          I shall destroy this house          and no one will be able to rebuild it.          \\xc2\\xa0          (72)          Someone said to him,          Tell my brothers to divide my father\\xe2\\x80\\x99s possessions with me.          \\xc2\\xa0          He said to the person,          Mister, who made me a divider?          \\xc2\\xa0          He turned to his students and said to them,          I am not a divider, am I?          \\xc2\\xa0          (73)          Yeshua said,          The harvest is large but the workers are few.          Beg the master to send out workers to the harvest.          \\xc2\\xa0          (74)          He said,           Master, there are many around the drinking trough          but nothing in the well.           \\xc2\\xa0          (75)          Yeshua said,          There are many standing at the door          but those who are alone will enter the wedding chamber.          \\xc2\\xa0          (76)          Yeshua said,          The father\\xe2\\x80\\x99s kingdom is like a merchant          who owned a supply of merchandise and found a pearl.          The merchant was prudent.          He sold his goods and bought the single pearl          for himself.          So with you. Seek his treasure that is unfailing          and enduring,          where no moth comes to devour and no worm destroys.          \\xc2\\xa0          (77)          Yeshua said,          I am the light over all things.          I am all.          From me all has come forth,          and to me all has reached.          Split a piece of wood.          I am there.          Lift up the stone          and you will find me there.           \\xc2\\xa0          (78)          Yeshua said,          Why have you come out to the countryside?          To see a reed shaken by the wind?          Or to see a person dressed in soft clothes          like your rulers and your people of power?          They are dressed in soft clothes          and cannot understand truth.          \\xc2\\xa0          (79)          A woman in the crowd said to him,          Blessings on the womb that bore you          and the breasts that fed you.          \\xc2\\xa0          He said to her,          Blessings on those who have heard the word of the father          and have truly kept it. Days will come when you will say,          \\xe2\\x80\\x9cBlessings on the womb that has not conceived          and the breasts that have not given milk.\\xe2\\x80\\x9d          \\xc2\\xa0          (80)          Yeshua said,          Whoever has come to know the world          has discovered the body,          and whoever has discovered the body,          of that person the world is not worthy.          \\xc2\\xa0          (81)          Yeshua said,          Let a person of wealth rule,          and a person of power renounce it.          \\xc2\\xa0          (82)          Yeshua said,          Whoever is near me is near fire,          and whoever is far from me is far from the kingdom.           \\xc2\\xa0          (83)          Yeshua said,          You see images,          but the light within them is hidden in the image          of the father\\xe2\\x80\\x99s light.          He will be disclosed,          but his image is hidden by his light.          \\xc2\\xa0          (84)          Yeshua said,          When you see your likeness you are happy.          But when you see your images that came into being before you          and that neither die nor become visible,          how much you will bear!          \\xc2\\xa0          (85)          Yeshua said,          Adam came from great power and great wealth,          but he was not worthy of you.          Had he been worthy,          he would not have tasted death.          \\xc2\\xa0          (86)          Yeshua said,          Foxes have their dens \\xc2\\xa0and birds have their nests,          but the human child \\xc2\\xa0has no place to lay his head and rest.          \\xc2\\xa0          (87)          Yeshua said,          How miserable is the body that depends on a body,          and how miserable is the soul that depends on both.          \\xc2\\xa0          (88)          Yeshua said,          The messengers and the prophets will come to you          and give you what is yours.          You give them what you have and wonder,          \\xe2\\x80\\x9cWhen will they come and take what is theirs?\\xe2\\x80\\x9d          \\xc2\\xa0          (89)          Yeshua said,          Why do you wash the outside of the cup?          Don\\xe2\\x80\\x99t you understand that the one who made the inside          also made the outside?          \\xc2\\xa0          (90)          Yeshua said,          Come to me, for my yoke is easy and my mastery gentle,          and you will find rest for yourselves.          \\xc2\\xa0          (91)          They said to him,          Tell us who you are so that we may believe in you.          \\xc2\\xa0          He said to them,          You examine the face of heaven and earth          but you have not come to know the one who is in your presence,          and you do not know how to examine this moment.          \\xc2\\xa0          (92)          Yeshua said,          Seek and you will find.          In the past I did not tell you the things about which you asked me.          Now I am willing to tell you, but you do not seek them.          \\xc2\\xa0          (93)          Do not give what is holy to dogs.          They might throw them upon the manure pile.          Do not throw pearls to swine.          They might make mud of it.           \\xc2\\xa0          (94)          Yeshua said,          One who seeks will find.          For one who knocks it will be opened.          \\xc2\\xa0          (95)          Yeshua said,           If you have money, do not lend it at interest,          but give it to someone          from whom you will not get it back.          \\xc2\\xa0          (96)          Yeshua said,          The father\\xe2\\x80\\x99s kingdom is like a woman          who took a little yeast, hid it in dough,          and made large loaves of bread.          Whoever has ears should hear.          \\xc2\\xa0          (97)          Yeshua said,          The father\\xe2\\x80\\x99s kingdom is like a woman          who was carrying a jar full of meal.          While she was walking along a distant road,          the handle of the jar broke          and the meal spilled behind her along the road.          She did not know it.          She noticed no problem.          When she reached her house she put the jar down          and found it empty.          \\xc2\\xa0          (98)          Yeshua said,          The father\\xe2\\x80\\x99s kingdom is like a person          who wanted to put someone powerful to death.          While at home he drew his sword          and thrust it into the wall          to find out whether his hand would go in.          Then he killed the powerful person.          \\xc2\\xa0          (99)          The students said to him,          Your brothers and your mother are standing outside.          \\xc2\\xa0          He said to them,          Those here who do the will of my father          are my brothers and my mother.          They will enter my father\\xe2\\x80\\x99s kingdom.          \\xc2\\xa0          (100)          They showed Yeshua a gold coin and said to him,          Caesar\\xe2\\x80\\x99s people demand taxes from us.          \\xc2\\xa0          He said to them,          Give Caesar the things that are Caesar\\xe2\\x80\\x99s,          give god the things that are god\\xe2\\x80\\x99s,          and give me what is mine.          \\xc2\\xa0          (101)          Those who do not hate their father and mother as I do          cannot be my students,          and those who do not love their father and mother as I do          cannot be my students.          For my mother gave me falsehood,          but my true mother gave me life.           \\xc2\\xa0          (102)          Yeshua said,          Shame on the Pharisees.          They are like a dog sleeping in the cattle manger.          It does not eat or let the cattle eat.          \\xc2\\xa0          (103)          Yeshua said,          Blessings on you if you know where the robbers will enter          so you can wake up, rouse your estate,          and arm yourself before they break in.          \\xc2\\xa0          (104)          They said to Yeshua,          Come let us pray today and fast.          \\xc2\\xa0          Yeshua said,          What sin have I committed          or how have I been undone?          \\xc2\\xa0          When the bridegroom leaves the wedding chamber,          then let the people fast and pray.          \\xc2\\xa0          (105)          Yeshua said,          Whoever knows the father and the mother          will be called the child of a whore.          \\xc2\\xa0          (106)          Yeshua said,          When you make two into one,          you will become human children.          When you say, \\xe2\\x80\\x9cMountain, move,\\xe2\\x80\\x9d          the mountain will move.          \\xc2\\xa0          (107)          Yeshua said,          The kingdom is like a shepherd who had          a hundred sheep.          One of them, the largest, went astray.          He left the ninety-nine and looked for the one until he found it.          After so much trouble he said to the sheep,          \\xe2\\x80\\x9cI love you more than the ninety-nine.\\xe2\\x80\\x9d          \\xc2\\xa0          (108)          Yeshua said,          Whoever drinks from my mouth will become like me.          I myself shall become that person,          and the hidden things will be revealed to that one.           \\xc2\\xa0          (109)          Yeshua said,          The kingdom is like a person who had a treasure hidden in his field.          He did not know it, and when he died, he left it to his son.          The son did not know about it.          He took over the field and sold it.          The buyer was plowing and found the treasure,          and began to lend money at interest to whomever he wished.          \\xc2\\xa0          (110)          Yeshua said,          You who have found the world          and become wealthy,          renounce the world.          \\xc2\\xa0          (111)          Yeshua said,          The heavens and earth will roll up in your presence          and you who live from the living one will not see death.          \\xc2\\xa0          Doesn\\xe2\\x80\\x99t Yeshua say this?          Whoever has found oneself,          of that person the world is not worthy.          \\xc2\\xa0          (112)          Yeshua said,          Shame on the flesh that depends on the soul.          Shame on the soul that depends on the flesh.          \\xc2\\xa0          (113)          His students said to him,          When will the kingdom come?          \\xc2\\xa0          Yeshua said,          It will not come because you are watching for it.          No one will announce, \\xe2\\x80\\x9cLook, here it is,\\xe2\\x80\\x9d          or \\xe2\\x80\\x9cLook, there it is.\\xe2\\x80\\x9d          The father\\xe2\\x80\\x99s kingdom is spread out upon the earth          and people do not see it.          \\xc2\\xa0          (114)          Shimon Kefa said to them,          Miryam should leave us.          Females are not worthy of life.          \\xc2\\xa0          Yeshua said,          Look, I shall guide her to make her male,          so she too may become a living spirit resembling you males.          For every female who makes herself male          will enter the kingdom of heaven. </p></blockquote></blockquote><p align=\"center\">\\xc2\\xa0</p><h6 align=\"center\"><font face=\"Arial\"><span style=\"background-color: rgb(224,224,224)\">| <a href=\"nhl.html\">Nag Hammadi Library </a>| <a href=\"../library.html\">Gnostic Society    Library </a>| <a href=\"../welcome.html\">Gnosis Archive </a>|</span></font></h6></td></tr></table></body></html>'"
      ]
     },
     "execution_count": 59,
     "metadata": {},
     "output_type": "execute_result"
    }
   ],
   "source": [
    "translations[\"Meyer Translation\"][1]"
   ]
  },
  {
   "cell_type": "code",
   "execution_count": null,
   "metadata": {
    "collapsed": true
   },
   "outputs": [],
   "source": []
  }
 ],
 "metadata": {
  "kernelspec": {
   "display_name": "Python 2",
   "language": "python",
   "name": "python2"
  },
  "language_info": {
   "codemirror_mode": {
    "name": "ipython",
    "version": 2
   },
   "file_extension": ".py",
   "mimetype": "text/x-python",
   "name": "python",
   "nbconvert_exporter": "python",
   "pygments_lexer": "ipython2",
   "version": "2.7.10"
  }
 },
 "nbformat": 4,
 "nbformat_minor": 2
}
