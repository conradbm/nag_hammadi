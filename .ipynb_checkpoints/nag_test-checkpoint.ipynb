{
 "cells": [
  {
   "cell_type": "code",
   "execution_count": 1,
   "metadata": {
    "collapsed": false,
    "deletable": true,
    "editable": true
   },
   "outputs": [],
   "source": [
    "\n",
    "###\n",
    "### Important libraries\n",
    "###\n",
    "from __future__ import division\n",
    "import urllib2\n",
    "from bs4 import BeautifulSoup\n",
    "import re\n",
    "from collections import defaultdict\n",
    "\n",
    "###\n",
    "### Helper functions to manage repetitive tasks\n",
    "###\n",
    "def scrape_page(some_url):\n",
    "    quote_page = some_url\n",
    "    page = urllib2.urlopen(quote_page)\n",
    "    soup = BeautifulSoup(page, \"html.parser\")\n",
    "    return soup\n",
    "\n",
    "def handle_prefix_initial(prefix,s):\n",
    "    if s[0] == prefix:\n",
    "        return s[1:]\n",
    "    else:\n",
    "        return s\n",
    "def handle_prefix_word(prefix,s):\n",
    "    if prefix in s:\n",
    "        return s[8:]\n",
    "    else:\n",
    "        return s\n",
    "def regex_on_html(yourRegex, yourHTML):\n",
    "    result_set = re.finditer(yourRegex, yourHTML)\n",
    "    results = map(lambda x: x.groups(),result_set)\n",
    "    return results\n",
    "\n",
    "def filter_non_asci(s):\n",
    "    import string\n",
    "    printable = set(string.printable)\n",
    "    return filter(lambda x: x in printable, s)\n",
    "    "
   ]
  },
  {
   "cell_type": "code",
   "execution_count": 106,
   "metadata": {
    "collapsed": false,
    "deletable": true,
    "editable": true
   },
   "outputs": [
    {
     "name": "stdout",
     "output_type": "stream",
     "text": [
      "Link: gthlamb.html \tTranslation: Lambdin Translation\n",
      "Link: gosthom-meyer.html \tTranslation: Meyer Translation\n",
      "Link: gosthom-davies.html \tTranslation: Davies Translation\n",
      "Link: gosthom.html \tTranslation: Patterson and Meyer Translation\n",
      "Link: gth_pat_rob.htm \tTranslation: Patterson and Robinson Translation\n"
     ]
    }
   ],
   "source": [
    "###\n",
    "### Main page pre/post scrape\n",
    "###\n",
    "\n",
    "site = \"http://www.gnosis.org/naghamm/nhl_thomas.htm\"\n",
    "root = \"http://www.gnosis.org/naghamm/\"\n",
    "site_html = scrape_page(site)\n",
    "site_html_string = str(site_html)\n",
    "\n",
    "\n",
    "###\n",
    "### Scraping and cleaning to house our raw translation data\n",
    "###\n",
    "\n",
    "results = regex_on_html(\"<p>(<strong>)*<a href=\\\"(.*?)\\\">(.*?)</a>?(</strong>)*</p>\", site_html_string)\n",
    "\n",
    "translations=defaultdict(list)\n",
    "for item in results[1:-1]:\n",
    "    link=handle_prefix_initial(\"/\",item[1])\n",
    "    link=handle_prefix_word(\"naghamm\", link)\n",
    "    trans=re.sub(r'\\<.*?>', '', item[2])\n",
    "    print \"Link:\",link, \"\\t\", \"Translation:\", trans\n",
    "    translations[trans].append(root + link)\n",
    "translations\n",
    "\n",
    "\n",
    "###\n",
    "### Append the raw html to the dict object\n",
    "###\n",
    "for k,v in translations.items():\n",
    "    html = scrape_page(v[0])\n",
    "    html_str = str(html)\n",
    "    translations[k].append(html_str)"
   ]
  },
  {
   "cell_type": "code",
   "execution_count": 111,
   "metadata": {
    "collapsed": false,
    "deletable": true,
    "editable": true
   },
   "outputs": [
    {
     "data": {
      "text/plain": [
       "['(1) And he said, \"Whoever finds the interpretation of these sayings will not experience death.\"',\n",
       " '(2) Jesus said, \"Let him who seeks continue seeking until he finds. When he finds, he will become troubled. When he becomes troubled, he will be astonished, and he will rule over the All.\"',\n",
       " '(3) Jesus said, \"If those who lead you say to you, \"See, the kingdom is in the sky,\" then the birds of the sky will precede you. If they say to you, \"It is in the sea,\" then the fish will precede you. Rather, the kingdom is inside of you, and it is outside of you. When you come to know yourselves, then you will become known, and you will realize that it is you who are the sons of the living father. But if you will not know yourselves, you dwell in poverty and it is you who are that poverty.\"',\n",
       " '(4) Jesus said, \"The man old in days will not hesitate to ask a small child seven days old about the place of life, and he will live. For many who are first will become last, and they will become one and the same.\"',\n",
       " '(5) Jesus said, \"Recognize what is in your sight, and that which is hidden from you will become plain to you . For there is nothing hidden which will not become manifest.\"',\n",
       " '(6) His disciples questioned him and said to him, \"Do you want us to fast? How shall we pray? Shall we give alms? What diet shall we observe?\" Jesus said, \"Do not tell lies, and do not do what you hate, for all things are plain in the sight of heaven. For nothing hidden will not become manifest, and nothing covered will remain without being uncovered.\"',\n",
       " '(7) Jesus said, \"Blessed is the lion which becomes man when consumed by man; and cursed is the man whom the lion consumes, and the lion becomes man.\"',\n",
       " '(8) And he said, \"The man is like a wise fisherman who cast his net into the sea and drew it up from the sea full of small fish. Among them the wise fisherman found a fine large fish. He threw all the small fish back into the sea and chose the large fish without difficulty. Whoever has ears to hear, let him hear.\"',\n",
       " '(9) Jesus said, \"Now the sower went out, took a handful (of seeds), and scattered them. Some fell on the road; the birds came and gathered them up. Others fell on the rock, did not take root in the soil, and did not produce ears. And others fell on thorns; they choked the seed(s) and worms ate them. And others fell on the good soil and it produced good fruit: it bore sixty per measure and a hundred and twenty per measure.\"',\n",
       " '(10) Jesus said, \"I have cast fire upon the world, and see, I am guarding it until it blazes.\"',\n",
       " '(11) Jesus said, \"This heaven will pass away, and the one above it will pass away. The dead are not alive, and the living will not die. In the days when you consumed what is dead, you made it what is alive. When you come to dwell in the light, what will you do? On the day when you were one you became two. But when you become two, what will you do?\"',\n",
       " '(12) The disciples said to Jesus, \"We know that you will depart from us. Who is to be our leader?\" Jesus said to them, \"Wherever you are, you are to go to James the righteous, for whose sake heaven and earth came into being.\"',\n",
       " '(13) Jesus said to his disciples, \"Compare me to someone and tell me whom I am like.\" Simon Peter said to him, \"You are like a righteous angel.\" Matthew said to him, \"You are like a wise philosopher.\" Thomas said to him, \"Master, my mouth is wholly incapable of saying whom you are like.\" Jesus said, \"I am not your master. Because you have drunk, you have become intoxicated from the bubbling spring which I have measured out.\" And he took him and withdrew and told him three things. When Thomas returned to his companions, they asked him, \"What did Jesus say to you?\" Thomas said to them, \"If I tell you one of the things which he told me, you will pick up stones and throw them at me; a fire will come out of the stones and burn you up.\"',\n",
       " '(14) Jesus said to them, \"If you fast, you will give rise to sin for yourselves; and if you pray, you will be condemned; and if you give alms, you will do harm to your spirits. When you go into any land and walk about in the districts, if they receive you, eat what they will set before you, and heal the sick among them. For what goes into your mouth will not defile you, but that which issues from your mouth - it is that which will defile you.\"',\n",
       " '(15) Jesus said, \"When you see one who was not born of woman, prostrate yourselves on your faces and worship him. That one is your father.\"',\n",
       " '(16) Jesus said, \"Men think, perhaps, that it is peace which I have come to cast upon the world. They do not know that it is dissension which I have come to cast upon the earth: fire, sword, and war. For there will be five in a house: three will be against two, and two against three, the father against the son, and the son against the father. And they will stand solitary.\"',\n",
       " '(17) Jesus said, \"I shall give you what no eye has seen and what no ear has heard and what no hand has touched and what has never occurred to the human mind.\"',\n",
       " '(18) The disciples said to Jesus, \"Tell us how our end will be.\" Jesus said, \"Have you discovered, then, the beginning, that you look for the end? For where the beginning is, there will the end be. Blessed is he who will take his place in the beginning; he will know the end and will not experience death.\"',\n",
       " '(19) Jesus said, \"Blessed is he who came into being before he came into being. If you become my disciples and listen to my words, these stones will minister to you. For there are five trees for you in Paradise which remain undisturbed summer and winter and whose leaves do not fall. Whoever becomes acquainted with them will not experience death.\"',\n",
       " '(20) The disciples said to Jesus, \"Tell us what the kingdom of heaven is like.\" He said to them, \"It is like a mustard seed. It is the smallest of all seeds. But when it falls on tilled soil, it produces a great plant and becomes a shelter for birds of the sky.\"',\n",
       " '(21) Mary said to Jesus, \"Whom are your disciples like?\" He said, \"They are like children who have settled in a field which is not theirs. When the owners of the field come, they will say, \"Let us have back our field.\" They (will) undress in their presence in order to let them have back their field and to give it back to them. Therefore I say, if the owner of a house knows that the thief is coming, he will begin his vigil before he comes and will not let him dig through into his house of his domain to carry away his goods. You, then, be on your guard against the world. Arm yourselves with great strength lest the robbers find a way to come to you, for the difficulty which you expect will (surely) materialize. Let there be among you a man of understanding. When the grain ripened, he came quickly with his sickle in his hand and reaped it. Whoever has ears to hear, let him hear.\"',\n",
       " '(22) Jesus saw infants being suckled. He said to his disciples, \"These infants being suckled are like those who enter the kingdom.\" They said to him, \"Shall we then, as children, enter the kingdom?\" Jesus said to them, \"When you make the two one, and when you make the inside like the outside and the outside like the inside, and the above like the below, and when you make the male and the female one and the same, so that the male not be male nor the female female; and when you fashion eyes in the place of an eye, and a hand in place of a hand, and a foot in place of a foot, and a likeness in place of a likeness; then will you enter the kingdom.\"',\n",
       " '(23) Jesus said, \"I shall choose you, one out of a thousand, and two out of ten thousand, and they shall stand as a single one.\"',\n",
       " '(24) His disciples said to him, \"Show us the place where you are, since it is necessary for us to seek it.\" He said to them, \"Whoever has ears, let him hear. There is light within a man of light, and he lights up the whole world. If he does not shine, he is darkness.\"',\n",
       " '(25) Jesus said, \"Love your brother like your soul, guard him like the pupil of your eye.\"',\n",
       " '(26) Jesus said, \"You see the mote in your brother\"s eye, but you do not see the beam in your own eye. When you cast the beam out of your own eye, then you will see clearly to cast the mote from your brother\"s eye.\"',\n",
       " '(27) &lt;Jesus said,&gt; \"If you do not fast as regards the world, you will not find the kingdom. If you do not observe the Sabbath as a Sabbath, you will not see the father.\"',\n",
       " '(28) Jesus said, \"I took my place in the midst of the world, and I appeared to them in flesh. I found all of them intoxicated; I found none of them thirsty. And my soul became afflicted for the sons of men, because they are blind in their hearts and do not have sight; for empty they came into the world, and empty too they seek to leave the world. But for the moment they are intoxicated. When they shake off their wine, then they will repent.\"',\n",
       " '(29) Jesus said, \"If the flesh came into being because of spirit, it is a wonder. But if spirit came into being because of the body, it is a wonder of wonders. Indeed, I am amazed at how this great wealth has made its home in this poverty.\"',\n",
       " '(30) Jesus said, \"Where there are three gods, they are gods. Where there are two or one, I am with him.\"',\n",
       " '(31) Jesus said, \"No prophet is accepted in his own village; no physician heals those who know him.\"',\n",
       " '(32) Jesus said, \"A city being built on a high mountain and fortified cannot fall, nor can it be hidden.\"',\n",
       " '(33) Jesus said, \"Preach from your housetops that which you will hear in your ear. For no one lights a lamp and puts it under a bushel, nor does he put it in a hidden place, but rather he sets it on a lampstand so that everyone who enters and leaves will see its light.\"',\n",
       " '(34) Jesus said, \"If a blind man leads a blind man, they will both fall into a pit.\"',\n",
       " '(35) Jesus said, \"It is not possible for anyone to enter the house of a strong man and take it by force unless he binds his hands; then he will (be able to) ransack his house.\"',\n",
       " '(36) Jesus said, \"Do not be concerned from morning until evening and from evening until morning about what you will wear.\"',\n",
       " '(37) His disciples said, \"When will you become revealed to us and when shall we see you?\" Jesus said, \"When you disrobe without being ashamed and take up your garments and place them under your feet like little children and tread on them, then will you see the son of the living one, and you will not be afraid\"',\n",
       " '(38) Jesus said, \"Many times have you desired to hear these words which I am saying to you, and you have no one else to hear them from. There will be days when you will look for me and will not find me.\"',\n",
       " '(39) Jesus said, \"The pharisees and the scribes have taken the keys of knowledge (gnosis) and hidden them. They themselves have not entered, nor have they allowed to enter those who wish to. You, however, be as wise as serpents and as innocent as doves.\"',\n",
       " '(40) Jesus said, \"A grapevine has been planted outside of the father, but being unsound, it will be pulled up by its roots and destroyed.\"',\n",
       " '(41) Jesus said, \"Whoever has something in his hand will receive more, and whoever has nothing will be deprived of even the little he has.\"',\n",
       " '(42) Jesus said, \"Become passers-by.\"',\n",
       " '(43) His disciples said to him, \"Who are you, that you should say these things to us?\" &lt;Jesus said to them,&gt; \"You do not realize who I am from what I say to you, but you have become like the Jews, for they (either) love the tree and hate its fruit (or) love the fruit and hate the tree.\"',\n",
       " '(44) Jesus said, \"Whoever blasphemes against the father will be forgiven, and whoever blasphemes against the son will be forgiven, but whoever blasphemes against the holy spirit will not be forgiven either on earth or in heaven.\"',\n",
       " '(45) Jesus said, \"Grapes are not harvested from thorns, nor are figs gathered from thistles, for they do not produce fruit. A good man brings forth good from his storehouse; an evil man brings forth evil things from his evil storehouse, which is in his heart, and says evil things. For out of the abundance of the heart he brings forth evil things.\"',\n",
       " '(46) Jesus said, \"Among those born of women, from Adam until John the Baptist, there is no one so superior to John the Baptist that his eyes should not be lowered (before him). Yet I have said, whichever one of you comes to be a child will be acquainted with the kingdom and will become superior to John.\"',\n",
       " '(47) Jesus said, \"It is impossible for a man to mount two horses or to stretch two bows. And it is impossible for a servant to serve two masters; otherwise, he will honor the one and treat the other contemptuously. No man drinks old wine and immediately desires to drink new wine. And new wine is not put into old wineskins, lest they burst; nor is old wine put into a new wineskin, lest it spoil it. An old patch is not sewn onto a new garment, because a tear would result.\"',\n",
       " '(48) Jesus said, \"If two make peace with each other in this one house, they will say to the mountain, \"Move Away,\" and it will move away.\"',\n",
       " '(49) Jesus said, \"Blessed are the solitary and elect, for you will find the kingdom. For you are from it, and to it you will return.\"',\n",
       " '(50) Jesus said, \"If they say to you, \"Where did you come from?\", say to them, \"We came from the light, the place where the light came into being on its own accord and established itself and became manifest through their image.\" If they say to you, \"Is it you?\", say, \"We are its children, we are the elect of the living father.\" If they ask you, \"What is the sign of your father in you?\", say to them, \"It is movement and repose.\"\"',\n",
       " '(51) His disciples said to him, \"When will the repose of the dead come about, and when will the new world come?\" He said to them, \"What you look forward to has already come, but you do not recognize it.\"',\n",
       " '(52) His disciples said to him, \"Twenty-four prophets spoke in Israel, and all of them spoke in you.\" He said to them, \"You have omitted the one living in your presence and have spoken (only) of the dead.\"',\n",
       " '(53) His disciples said to him, \"Is circumcision beneficial or not?\" He said to them, \"If it were beneficial, their father would beget them already circumcised from their mother. Rather, the true circumcision in spirit has become completely profitable.\"',\n",
       " '(54) Jesus said, \"Blessed are the poor, for yours is the kingdom of heaven.\"',\n",
       " '(55) Jesus said, \"Whoever does not hate his father and his mother cannot become a disciple to me. And whoever does not hate his brothers and sisters and take up his cross in my way will not be worthy of me.\"',\n",
       " '(56) Jesus said, \"Whoever has come to understand the world has found (only) a corpse, and whoever has found a corpse is superior to the world.\"',\n",
       " '(57) Jesus said, \"The kingdom of the father is like a man who had good seed. His enemy came by night and sowed weeds among the good seed. The man did not allow them to pull up the weeds; he said to them, \"I am afraid that you will go intending to pull up the weeds and pull up the wheat along with them.\" For on the day of the harvest the weeds will be plainly visible, and they will be pulled up and burned.\"',\n",
       " '(58) Jesus said, \"Blessed is the man who has suffered and found life.\"',\n",
       " '(59) Jesus said, \"Take heed of the living one while you are alive, lest you die and seek to see him and be unable to do so.\"',\n",
       " '(60) &lt;They saw&gt; a Samaritan carrying a lamb on his way to Judea. He said to his disciples, \"That man is round about the lamb.\" They said to him, \"So that he may kill it and eat it.\" He said to them, \"While it is alive, he will not eat it, but only when he has killed it and it has become a corpse.\" They said to him, \"He cannot do so otherwise.\" He said to them, \"You too, look for a place for yourself within repose, lest you become a corpse and be eaten.\"',\n",
       " '(61) Jesus said, \"Two will rest on a bed: the one will die, and the other will live.\" Salome said, \"Who are you, man, that you ... have come up on my couch and eaten from my table?\" Jesus said to her, \"I am he who exists from the undivided. I was given some of the things of my father.\" &lt;...&gt; \"I am your disciple.\" &lt;...&gt; \"Therefore I say, if he is destroyed, he will be filled with light, but if he is divided, he will be filled with darkness.\"',\n",
       " '(62) Jesus said, \"It is to those who are worthy of my mysteries that I tell my mysteries. Do not let your left (hand) know what your right (hand) is doing.\"',\n",
       " '(63) Jesus said, \"There was a rich man who had much money. He said, \"I shall put my money to use so that I may sow, reap, plant, and fill my storehouse with produce, with the result that I shall lack nothing.\" Such were his intentions, but that same night he died. Let him who has ears hear.\"',\n",
       " '(64) Jesus said, \"A man had received visitors. And when he had prepared the dinner, he sent his servant to invite the guests. He went to the first one and said to him, \"My master invites you.\" He said, \"I have claims against some merchants. They are coming to me this evening. I must go and give them my orders. I ask to be excused from the dinner.\" He went to another and said to him, \"My master has invited you.\" He said to him, \"I have just bought a house and am required for the day. I shall not have any spare time.\" He went to another and said to him, \"My master invites you.\" He said to him, \"My friend is going to get married, and I am to prepare the banquet. I shall not be able to come. I ask to be excused from the dinner.\" He went to another and said to him, \"My master invites you.\" He said to him, \"I have just bought a farm, and I am on my way to collect the rent. I shall not be able to come. I ask to be excused.\" The servant returned and said to his master, \"Those whom you invited to the dinner have asked to be excused.\" The master said to his servant, \"Go outside to the streets and bring back those whom you happen to meet, so that they may dine.\" Businessmen and merchants will not enter the places of my father.\"',\n",
       " '(65) He said, \"There was a good man who owned a vineyard. He leased it to tenant farmers so that they might work it and he might collect the produce from them. He sent his servant so that the tenants might give him the produce of the vineyard. They seized his servant and beat him, all but killing him. The servant went back and told his master. The master said, \"Perhaps he did not recognize them.\" He sent another servant. The tenants beat this one as well. Then the owner sent his son and said, \"Perhaps they will show respect to my son.\" Because the tenants knew that it was he who was the heir to the vineyard, they seized him and killed him. Let him who has ears hear.\"',\n",
       " '(66) Jesus said, \"Show me the stone which the builders have rejected. That one is the cornerstone.\"',\n",
       " '(67) Jesus said, \"If one who knows the all still feels a personal deficiency, he is completely deficient.\"',\n",
       " '(68) Jesus said, \"Blessed are you when you are hated and persecuted. Wherever you have been persecuted they will find no place.\"',\n",
       " '(69) Jesus said, \"Blessed are they who have been persecuted within themselves. It is they who have truly come to know the father. Blessed are the hungry, for the belly of him who desires will be filled.\"',\n",
       " '(70) Jesus said, \"That which you have will save you if you bring it forth from yourselves. That which you do not have within you will kill you if you do not have it within you.\"',\n",
       " '(71) Jesus said, \"I shall destroy this house, and no one will be able to build it [...].\"',\n",
       " '(72) A man said to him, \"Tell my brothers to divide my father\"s possessions with me.\" He said to him, \"O man, who has made me a divider?\" He turned to his disciples and said to them, \"I am not a divider, am I?\"',\n",
       " '(73) Jesus said, \"The harvest is great but the laborers are few. Beseech the Lord, therefore, to send out laborers to the harvest.\"',\n",
       " '(74) He said, \"O Lord, there are many around the drinking trough, but there is nothing in the cistern.\"',\n",
       " '(75) Jesus said, \"Many are standing at the door, but it is the solitary who will enter the bridal chamber.\"',\n",
       " '(76) Jesus said, \"The kingdom of the father is like a merchant who had a consignment of merchandise and who discovered a pearl. That merchant was shrewd. He sold the merchandise and bought the pearl alone for himself. You too, seek his unfailing and enduring treasure where no moth comes near to devour and no worm destroys.\"',\n",
       " '(77) Jesus said, \"It is I who am the light which is above them all. It is I who am the all. From me did the all come forth, and unto me did the all extend. Split a piece of wood, and I am there. Lift up the stone, and you will find me there.\"',\n",
       " '(78) Jesus said, \"Why have you come out into the desert? To see a reed shaken by the wind? And to see a man clothed in fine garments like your kings and your great men? Upon them are the fine garments, and they are unable to discern the truth.\"',\n",
       " '(79) A woman from the crowd said to him, \"Blessed are the womb which bore you and the breasts which nourished you.\" He said to her, \"Blessed are those who have heard the word of the father and have truly kept it. For there will be days when you will say, \"Blessed are the womb which has not conceived and the breasts which have not given milk.\"\"',\n",
       " '(80) Jesus said, \"He who has recognized the world has found the body, but he who has found the body is superior to the world.\"',\n",
       " '(81) Jesus said, \"Let him who has grown rich be king, and let him who possesses power renounce it.\"',\n",
       " '(82) Jesus said, \"He who is near me is near the fire, and he who is far from me is far from the kingdom.\"',\n",
       " '(83) Jesus said, \"The images are manifest to man, but the light in them remains concealed in the image of the light of the father. He will become manifest, but his image will remain concealed by his light.\"',\n",
       " '(84) Jesus said, \"When you see your likeness, you rejoice. But when you see your images which came into being before you, and which neither die not become manifest, how much you will have to bear!\"',\n",
       " '(85) Jesus said, \"Adam came into being from a great power and a great wealth, but he did not become worthy of you. For had he been worthy, he would not have experienced death.\"',\n",
       " '(86) Jesus said, \"The foxes have their holes and the birds have their nests, but the son of man has no place to lay his head and rest.\"',\n",
       " '(87) Jesus said, \"Wretched is the body that is dependant upon a body, and wretched is the soul that is dependent on these two.\"',\n",
       " '(88) Jesus said, \"The angels and the prophets will come to you and give to you those things you (already) have. And you too, give them those things which you have, and say to yourselves, \"When will they come and take what is theirs?\"\"',\n",
       " '(89) Jesus said, \"Why do you wash the outside of the cup? Do you not realize that he who made the inside is the same one who made the outside?\"',\n",
       " '(90) Jesus said, \"Come unto me, for my yoke is easy and my lordship is mild, and you will find repose for yourselves.\"',\n",
       " '(91) They said to him, \"Tell us who you are so that we may believe in you.\" He said to them, \"You read the face of the sky and of the earth, but you have not recognized the one who is before you, and you do not know how to read this moment.\"',\n",
       " '(92) Jesus said, \"Seek and you will find. Yet, what you asked me about in former times and which I did not tell you then, now I do desire to tell, but you do not inquire after it.\"',\n",
       " '(93) &lt;Jesus said,&gt; \"Do not give what is holy to dogs, lest they throw them on the dung-heap. Do not throw the pearls to swine, lest they [...] it [...].\"',\n",
       " '(94) Jesus said, \"He who seeks will find, and he who knocks will be let in.\"',\n",
       " '(95) Jesus said, \"If you have money, do not lend it at interest, but give it to one from whom you will not get it back.\"',\n",
       " '(96) Jesus said, \"The kingdom of the father is like a certain woman. She took a little leaven, concealed it in some dough, and made it into large loaves. Let him who has ears hear.\"',\n",
       " '(97) Jesus said, \"The kingdom of the father is like a certain woman who was carrying a jar full of meal. While she was walking on the road, still some distance from home, the handle of the jar broke and the meal emptied out behind her on the road. She did not realize it; she had noticed no accident. When she reached her house, she set the jar down and found it empty.\"',\n",
       " '(98) Jesus said, \"The kingdom of the father is like a certain man who wanted to kill a powerful man. In his own house he drew his sword and stuck it into the wall in order to find out whether his hand could carry through. Then he slew the powerful man.\"',\n",
       " '(99) The disciples said to him, \"Your brothers and your mother are standing outside.\" He said to them, \"Those here who do the will of my father are my brothers and my mother. It is they who will enter the kingdom of my father.\"',\n",
       " '(100) They showed Jesus a gold coin and said to him, \"Caesar\"s men demand taxes from us.\" He said to them, \"Give Caesar what belongs to Caesar, give God what belongs to God, and give me what is mine.\"',\n",
       " '(101) &lt;Jesus said,&gt; \"Whoever does not hate his father and his mother as I do cannot become a disciple to me. And whoever does not love his father and his mother as I do cannot become a disciple to me. For my mother [...], but my true mother gave me life.\"',\n",
       " '(102) Jesus said, \"Woe to the pharisees, for they are like a dog sleeping in the manger of oxen, for neither does he eat nor does he let the oxen eat.\"',\n",
       " '(103) Jesus said, \"Fortunate is the man who knows where the brigands will enter, so that he may get up, muster his domain, and arm himself before they invade.\"',\n",
       " '(104) They said to Jesus, \"Come, let us pray today and let us fast.\" Jesus said, \"What is the sin that I have committed, or wherein have I been defeated? But when the bridegroom leaves the bridal chamber, then let them fast and pray.\"',\n",
       " '(105) Jesus said, \"He who knows the father and the mother will be called the son of a harlot.\"',\n",
       " '(106) Jesus said, \"When you make the two one, you will become the sons of man, and when you say, \"Mountain, move away,\" it will move away.\"',\n",
       " '(107) Jesus said, \"The kingdom is like a shepherd who had a hundred sheep. One of them, the largest, went astray. He left the ninety-nine sheep and looked for that one until he found it. When he had gone to such trouble, he said to the sheep, \"I care for you more than the ninety-nine.\"\"',\n",
       " '(108) Jesus said, \"He who will drink from my mouth will become like me. I myself shall become he, and the things that are hidden will be revealed to him.\"',\n",
       " '(109) Jesus said, \"The kingdom is like a man who had a hidden treasure in his field without knowing it. And after he died, he left it to his son. The son did not know (about the treasure). He inherited the field and sold it. And the one who bought it went plowing and found the treasure. He began to lend money at interest to whomever he wished.\"',\n",
       " '(110) Jesus said, \"Whoever finds the world and becomes rich, let him renounce the world.\"',\n",
       " '(111) Jesus said, \"The heavens and the earth will be rolled up in your presence. And the one who lives from the living one will not see death.\" Does not Jesus say, \"Whoever finds himself is superior to the world?\"',\n",
       " '(112) Jesus said, \"Woe to the flesh that depends on the soul; woe to the soul that depends on the flesh.\"',\n",
       " '(113) His disciples said to him, \"When will the kingdom come?\" &lt;Jesus said,&gt; \"It will not come by waiting for it. It will not be a matter of saying \"here it is\" or \"there it is.\" Rather, the kingdom of the father is spread out upon the earth, and men do not see it.\"',\n",
       " '(114) Simon Peter said to him, \"Let Mary leave us, for women are not worthy of life.\" Jesus said, \"I myself shall lead her in order to make her male, so that she too may become a living spirit resembling you males. For every woman who will make herself male will enter the kingdom of heaven.\"']"
      ]
     },
     "execution_count": 111,
     "metadata": {},
     "output_type": "execute_result"
    }
   ],
   "source": [
    "###\n",
    "### Get a regex for each each translation\n",
    "### Three translations should be enough ...\n",
    "###\n",
    "\n",
    "###\n",
    "### Functions to handle the cleaning\n",
    "###\n",
    "removeDuplicateSpaces = (lambda verse: ' '.join(verse.split()))\n",
    "\n",
    "def handler(verse, version=\"\"):\n",
    "    if version==\"\":\n",
    "        return False\n",
    "    elif version == \"lambdins\":\n",
    "        verse = removeDuplicateSpaces(verse)\n",
    "        verse = verse.replace('\\\\', '')\n",
    "        verse = verse.replace('<br/>', '')\n",
    "        verse = verse.replace('\\'', \"\\\"\")\n",
    "        return verse\n",
    "    elif version == \"davies\":\n",
    "        verse = removeDuplicateSpaces(verse)\n",
    "        verse = verse.replace('\\\\', '')\n",
    "        verse = verse.replace('<br/>', '')\n",
    "        verse = verse.replace('\\'', \"\\\"\")\n",
    "        return verse\n",
    "    elif version == \"meyers\":\n",
    "        verse = filter_non_asci(verse)\n",
    "        verse = filter(None, verse)\n",
    "        return verse\n",
    "    elif version == \"davies\":\n",
    "        return False\n",
    "\n",
    "\n",
    "# lambdins translation\n",
    "translations[\"Lambdin Translation\"][0]\n",
    "translations[\"Lambdin Translation\"][1] = translations[\"Lambdin Translation\"][1].replace(\"\\n\",\"\")\n",
    "resultset_lambdins = re.findall(r'<p>(\\(\\d*\\).*?)<\\/p>',translations[\"Lambdin Translation\"][1])\n",
    "translations[\"Lambdin Translation\"].append(resultset_lambdins)\n",
    "translations[\"Lambdin Translation\"][2] = [handler(v, \"lambdins\") for v in translations[\"Lambdin Translation\"][2]]\n",
    "translations[\"Lambdin Translation\"][2] = filter(None, translations[\"Lambdin Translation\"][2])\n",
    "translations[\"Lambdin Translation\"][2]"
   ]
  },
  {
   "cell_type": "code",
   "execution_count": null,
   "metadata": {
    "collapsed": false,
    "deletable": true,
    "editable": true
   },
   "outputs": [],
   "source": [
    "\n"
   ]
  },
  {
   "cell_type": "code",
   "execution_count": 110,
   "metadata": {
    "collapsed": false,
    "deletable": true,
    "editable": true
   },
   "outputs": [
    {
     "data": {
      "text/plain": [
       "''"
      ]
     },
     "execution_count": 110,
     "metadata": {},
     "output_type": "execute_result"
    }
   ],
   "source": [
    "# meyers translation\n",
    "translations[\"Meyer Translation\"][0]\n",
    "translations[\"Meyer Translation\"][1] = translations[\"Meyer Translation\"][1].replace(\"\\n\", \"\")\n",
    "translations[\"Meyer Translation\"][1] = translations[\"Meyer Translation\"][1].replace(\"<br/>\", \"\")\n",
    "translations[\"Meyer Translation\"][1] = removeDuplicateSpaces(translations[\"Meyer Translation\"][1])\n",
    "resultset_meyers = re.findall(r'<p align=\\\"center\\\">(.*?)<\\/p>', translations[\"Meyer Translation\"][1])\n",
    "resultset_meyers = resultset_meyers[7:-1][0].split(\"\\xc2\\xa0\")\n",
    "ls1 = [handler(v, \"meyers\") for v in resultset_meyers]\n",
    "translations[\"Meyer Translation\"].append(ls1)\n",
    "translations[\"Meyer Translation\"][2][0]"
   ]
  },
  {
   "cell_type": "code",
   "execution_count": 139,
   "metadata": {
    "collapsed": false,
    "deletable": true,
    "editable": true
   },
   "outputs": [],
   "source": [
    "\n",
    "\n",
    "\n",
    "\n",
    "\n",
    "\n",
    "\n",
    "\n",
    "\n",
    "# davies translation\n",
    "translations[\"Davies Translation\"][0]\n",
    "translations[\"Davies Translation\"][1] = translations[\"Davies Translation\"][1].replace(\"\\n\",\"\")\n",
    "translations[\"Davies Translation\"][1] = translations[\"Davies Translation\"][1].replace(\"<br/>\",\"\")\n",
    "resultset_davies = re.findall(r'<p>(\\d+..*?)<\\/p>',translations[\"Davies Translation\"][1])\n",
    "translations[\"Davies Translation\"].append(resultset_davies)\n",
    "[handler(v, \"davies\") for v in translations[\"Davies Translation\"][2]]"
   ]
  },
  {
   "cell_type": "code",
   "execution_count": 48,
   "metadata": {
    "collapsed": false,
    "deletable": true,
    "editable": true
   },
   "outputs": [],
   "source": [
    "# Maybe do some more cleaning up next time? Up to you."
   ]
  },
  {
   "cell_type": "code",
   "execution_count": 72,
   "metadata": {
    "collapsed": false,
    "deletable": true,
    "editable": true
   },
   "outputs": [
    {
     "data": {
      "text/plain": [
       "'<!DOCTYPE HTML PUBLIC \"-//IETF//DTD HTML//EN\"><html><head><meta content=\"text/html; charset=utf-8\" http-equiv=\"Content-Type\"/><meta content=\"The Gospel of Thomas, trans. Marvin Meyer, from the Nag Hammadi Library. This site includes the entire Hammadi Library, as well as a large collection of other primary Gnostic scriptures and documents.\" name=\"description\"/><title>The Gospel of Thomas - Marvin Meyer - The Nag Hammadi Library</title><style> a {text-decoration:none} a:hover {color: #FF9900; text-decoration: none} body,td,th { font-family: Times New Roman, Times, serif; font-size:110%; }</style></head><body alink=\"#FF0000\" background=\"../images/bkg1.jpg\" link=\"#0000EE\" text=\"#000000\" vlink=\"#0000EE\"><table border=\"0\" cellpadding=\"10\" cellspacing=\"0\"><tr><td align=\"left\" valign=\"top\" width=\"155\"><img alt=\\'First page of \"Gospel of Thomas\" coptic manuscript. (Photo Courtesy of the Institute for Antiquity and Christianity, Claremont Graduate University)\\' height=\"261\" src=\"/images/coptic.gif\" title=\\'First page of \"Gospel of Thomas\" coptic manuscript. (Photo Courtesy of the Institute for Antiquity and Christianity, Claremont Graduate University)\\' width=\"145\"/><br clear=\"all\"/><p><a href=\"nhl.html\"><img alt=\"Nag Hammadi Library main page\" height=\"25\" src=\"../images/butnhl.gif\" width=\"140\"/></a></p><p><a href=\"nhlintro.html\"><img alt=\"Introduction to Gnosticism and the Nag Hammadi Library\" height=\"25\" src=\"../images/butintro.gif\" width=\"140\"/></a></p><p><a href=\"nhlalpha.html\"><img alt=\"Alphabetic Index of the Nag Hammadi Library\" height=\"25\" src=\"../images/butalpha.gif\" width=\"140\"/></a></p><p><a href=\"nhlcodex.html\"><img alt=\"Codex Index of the Nag Hammadi Library\" height=\"25\" src=\"../images/butcodex.gif\" width=\"140\"/></a></p><p><a href=\"nhl_thomas.htm\"><img alt=\"Gospel of Thomas Collection\" height=\"25\" src=\"../images/butgth.gif\" width=\"140\"/></a></p><p><a href=\"nhsearch.html\"><img alt=\"Search the Nag Hammadi Library\" height=\"25\" src=\"../images/butnhlsr.gif\" width=\"140\"/></a></p><p><a href=\"../library.html\"><img alt=\"Return to The Gnostic Society Library page\" height=\"25\" src=\"../images/libbut.gif\" width=\"140\"/></a></p><p><a href=\"../welcome.html\"><img alt=\"Return to The Gnosis Archive main page\" height=\"25\" src=\"../images/butgnarch.gif\" width=\"140\"/></a></p><p>\\xc2\\xa0</p><h6><font face=\"Arial Narrow\">(Above image of the Gospel of Thomas courtesy of the Institute for Antiquity and Christianity, Claremont Graduate University) </font></h6><p>\\xc2\\xa0</p><h6><font face=\"Arial Narrow\"><em>Visit the <a href=\"../bookstore1.htm\">Bookstore</a> for a complete selection of translations and books about The Gospel of Thomas </em></font></h6><p><a href=\"../bookstore1.htm\" target=\"_blank\"><img align=\"left\" alt=\"The Fifth Gospel, by Stephen Patterson\" border=\"2\" height=\"140\" hspace=\"10\" src=\"../images/Bookstore/gotage.gif\" width=\"88\"/></a></p><p><br clear=\"all\"/></p><p>\\xc2\\xa0</p><p><a href=\"../bookstore1.htm\" target=\"_blank\"><img align=\"left\" alt=\"The Nag Hammadi Library, edited by James Robinson (Click to visit theBookstore and buy the book)\" border=\"2\" height=\"140\" hspace=\"10\" src=\"../images/Bookstore/naghammadi.gif\" vspace=\"10\" width=\"93\"/></a></p></td><td> <p align=\"center\"><img alt=\"The Gnostic Society Library\" height=\"43\" src=\"/images/GnosticSocietyLibrary.gif\" title=\"The Gnostic Society Library - gnosis.org\" width=\"521\"/></p><p align=\"center\"><strong><font size=\"5\">The Nag Hammadi Library </font></strong></p><h3 align=\"center\">The Gospel of Thomas </h3><hr/><p align=\"center\"><strong>Translated by Marvin Meyer</strong></p><blockquote><blockquote><p align=\"center\"><em>This original translation by Marvin Meyer of </em>The Gospel of Thomas<em> is presented in the Gnostic Society Library by permission and under license from the copyright holder. It is reproduced in </em><a href=\"http://www.amazon.com/exec/obidos/ASIN/1590306317/ref=nosim/gnosisarchive\">The Gnostic Bible</a>, \\xc2\\xa9<em> 2003, Willis Barnstone &amp; Marvin Meyer.</em></p></blockquote></blockquote><p align=\"center\"><em>(Visit the <a href=\"nhl_thomas.htm\">Gospel of Thomas Collection</a> for other translations and additional information)</em></p><p align=\"center\"><em>_____________________________________</em></p><p align=\"center\">\\xc2\\xa0</p><blockquote><blockquote><h3 align=\"center\">THE GOSPEL OF THOMAS</h3><p align=\"center\">\\xc2\\xa0 These are the hidden sayings that the living Yeshua spoke and Yehuda Toma the twin recorded. \\xc2\\xa0 (1) And he said, Whoever discovers what these sayings mean will not taste death. \\xc2\\xa0 (2) Yeshua said, Seek and do not stop seeking until you find. When you find, you will be troubled. When you are troubled, you will marvel and rule over all. \\xc2\\xa0 (3) Yeshua said, If your leaders tell you, \\xe2\\x80\\x9cLook, the kingdom is in heaven,\\xe2\\x80\\x9d then the birds of heaven will precede you. If they say to you, \\xe2\\x80\\x9cIt\\xe2\\x80\\x99s in the sea,\\xe2\\x80\\x9d then the fish will precede you. But the kingdom is inside you and it is outside you. When you know yourselves, \\xc2\\xa0then you will be known, and you will understand that you are children of the living father. But if you do not know yourselves, then you dwell in poverty and you are poverty. \\xc2\\xa0 (4) Yeshua said, A person old in days will not hesitate to ask a little child seven days old \\xc2\\xa0about the place of life, and the person will live. For many of the first will be last and become a single one. \\xc2\\xa0 (5) Yeshua said, Know what is in front of your face and what is hidden from you will be disclosed. There is nothing hidden that will not be revealed. \\xc2\\xa0 (6) His students asked him and said to him, Do you want us to fast? How should we pray? Should we give to charity? What diet should we observe? \\xc2\\xa0 Yeshua said, Do not lie and do not do what you hate. All things are disclosed before heaven. There is nothing hidden that will not be revealed, nothing covered that will remain undisclosed. \\xc2\\xa0 (7) Yeshua said, Blessings on the lion if a human eats it, making the lion human. Foul is the human if a lion eats it, making the lion human. \\xc2\\xa0 (8) And he said, Humankind is like a wise fisherman who cast his net into the sea and drew it up from the sea full of little fish. Among the fish he found a fine large fish. He threw all the little fish back into the sea and easily chose the large fish. Whoever has ears to hear should hear. \\xc2\\xa0 (9) Yeshua said, Look, the sower went out, took a handful of seeds, and scattered them. Some fell on the road and the birds came and pecked them up. Others fell on rock and they did not take root in the soil and did not produce heads of grain. Others fell on thorns and they choked the seeds and worms devoured them. And others fell on good soil and it brought forth a good crop, yielding sixty per measure and one hundred twenty per measure. \\xc2\\xa0 (10) Yeshua said, I have thrown fire upon the world, and look, I am watching till it blazes. \\xc2\\xa0 (11) Yeshua said, This heaven will pass away and the one above it will pass away. The dead are not alive and the living will not die. During the days when you ate what is dead you made it alive. When you are in the light, what will you do? On the day when you were one you became two. But when you become two, what will you do? \\xc2\\xa0 (12) The students said to Yeshua, We know you will leave us. Who will be our leader? \\xc2\\xa0 Yeshua said to them, Wherever you are, seek out Yaakov the just. For his sake heaven and earth came into being. \\xc2\\xa0 (13) Yeshua said to his students, Compare me to something and tell me what I am like. \\xc2\\xa0 Shimon Kefa \\xc2\\xa0said to him, You are like a just messenger. \\xc2\\xa0 Matai \\xc2\\xa0said to him, You are like a wise philosopher. \\xc2\\xa0 Toma \\xc2\\xa0said to him, Rabbi, \\xc2\\xa0my mouth is utterly unable to say what you are like. \\xc2\\xa0 Yeshua said, I am not your rabbi. Because you have drunk, you are intoxicated from the bubbling spring I tended. \\xc2\\xa0 And he took him and withdrew, and spoke three sayings \\xc2\\xa0to him. \\xc2\\xa0 When Toma came back to his friends, they asked him, What did Yeshua say to you? \\xc2\\xa0 Toma said to them, If I tell you one of the sayings he spoke to me, you will pick up rocks and stone me and fire will come out of the rocks and consume you. \\xc2\\xa0 (14) Yeshua said to them, If you fast you will bring sin upon yourselves, and if you pray you will be condemned, and if you give to charity you will harm your spirits. When you go into any region and walk through the countryside, and people receive you, eat what they serve you and heal the sick among them. What goes into your mouth will not defile you, but what comes out of your mouth will defile you. \\xc2\\xa0 (15) Yeshua said, When you see one not born of woman, fall on your faces and worship. That is your father. \\xc2\\xa0 (16) Yeshua said, People may think I have come to impose peace upon the world. They do not know that I have come to impose conflicts upon the earth: fire, sword, war. For there will be five in a house. There will be three against two and two against three, father against son and son against father, and they will stand alone. \\xc2\\xa0 (17) Yeshua said, I shall give you what no eye has seen, what no ear has heard, what no hand has touched, what has not arisen in the human heart. \\xc2\\xa0 (18) The students said to Yeshua, Tell us how our end will be. \\xc2\\xa0 Yeshua said, Have you discovered the beginning and now are seeking the end? Where the beginning is, the end will be. Blessings on you who stand at the beginning. You will know the end and not taste death. \\xc2\\xa0 (19) Yeshua said, Blessings on you who came into being before coming into being. If you become my students and hear my sayings, these stones will serve you. For there are five trees in paradise for you. Summer or winter they do not change and their leaves do not fall. Whoever knows them will not taste death. \\xc2\\xa0 (20) The students said to Yeshua, Tell us what the kingdom of heaven is like. \\xc2\\xa0 He said to them, It is like a mustard seed, the tiniest of seeds, but when it falls on prepared soil, it produces a great plant and becomes a shelter for the birds of heaven. \\xc2\\xa0 (21) Miryam \\xc2\\xa0said to Yeshua, What are your students like? \\xc2\\xa0 He said, They are like little children living in a field that is not theirs. When the owners of the field come, they will say, \\xe2\\x80\\x9cGive our field back to us.\\xe2\\x80\\x9d The children take off their clothes in front of them to give it back, and they return their field to them. So I say, if the owner of a house knows that a thief is coming, he will be on guard before the thief arrives and will not let the thief break into the house of his estate and steal his possessions. As for you, be on guard against the world. Arm yourselves with great strength, or the robbers will find a way to reach you, for the trouble you expect will come. Let someone among you understand. When the crop ripened, the reaper came quickly with sickle in hand and harvested it. Whoever has ears to hear should hear. \\xc2\\xa0 (22) Yeshua saw some babies nursing. He said to his students, These nursing babies are like those who enter the kingdom. They said to him, Then shall we enter the kingdom as babies? \\xc2\\xa0 Yeshua said to them, When you make the two into one, and when you make the inner like the outer and the outer like the inner and the upper like the lower, and when you make male and female into a single one, so that the male will not be male nor the female be female, when you make eyes in place of an eye, a hand in place of a hand, a foot in place of a foot, an image in place of an image, then you will enter the kingdom. \\xc2\\xa0 (23) Yeshua said, I shall choose you as one from a thousand and as two from ten thousand and they will stand as a single one. \\xc2\\xa0 (24) His students said, Show us the place where you are. We must seek it. \\xc2\\xa0 He said to them, Whoever has ears should hear. There is light within a person of light and it shines on the whole world. If it does not shine it is dark. \\xc2\\xa0 (25) Yeshua said, Love your brother like your soul. Protect that person like the pupil of your eye. \\xc2\\xa0 (26) Yeshua said, You see the speck in your brother\\xe2\\x80\\x99s eye but not the beam in your own eye. When you take the beam out of your own eye, then you will see clearly to take the speck out of your brother\\xe2\\x80\\x99s eye. \\xc2\\xa0 (27) If you do not fast from the world, you will not find the kingdom. If you do not observe the Shabbat as Shabbat, you will not see the father. \\xc2\\xa0 (28) Yeshua said, I took my stand in the midst of the world, and I appeared to them in flesh. I found them all drunk yet none of them thirsty. My soul ached for the human children because they are blind in their hearts and do not see. They came into the world empty and seek to depart from the world empty. But now they are drunk. When they shake off their wine, they will repent. \\xc2\\xa0 (29) Yeshua said, If the flesh came into being because of spirit, it is a marvel, but if spirit came into being because of body, it is a marvel of marvels. Yet I marvel at how this great wealth has come to dwell in this poverty. \\xc2\\xa0 (30) Yeshua said, Where there are three deities, they are divine. Where there are two or one, I am with that one. \\xc2\\xa0 (31) Yeshua said, A prophet is not accepted in the hometown. A doctor does not heal those who know the doctor. \\xc2\\xa0 (32) Yeshua said, A city built upon a high hill and fortified cannot fall, nor can it be hidden. \\xc2\\xa0 (33) Yeshua said, What you will hear in your ear in the other ear \\xc2\\xa0proclaim from your rooftops. No one lights a lamp and puts it under a basket, nor in a hidden place. You put it on a stand so that all who come and go will see its light. \\xc2\\xa0 (34) Yeshua said, If a blind person leads a blind person, both will fall in a hole. \\xc2\\xa0 (35) Yeshua said, You cannot enter the house of the strong and take it by force without binding the owner\\xe2\\x80\\x99s hands. Then you can loot the house. \\xc2\\xa0 (36) Yeshua said, From morning to evening and from evening to morning, do not worry about what you will wear. \\xc2\\xa0 (37) His students said, When will you appear to us and when shall we see you? \\xc2\\xa0 Yeshua said, When you strip naked without being ashamed and take your clothes and put them under your feet like small children and trample them, then you will see the child of the living one and you will not be afraid. \\xc2\\xa0 (38) Yeshua said, Often you wanted to hear these sayings I am telling you, and you have no one else from whom to hear them. There will be days when you will seek me and you will not find me. \\xc2\\xa0 (39) Yeshua said, The Pharisees and the scholars have taken the keys of knowledge and have hidden them. They have not entered, nor have they allowed those who want to enter to go inside. You should be shrewd as snakes and innocent as doves. \\xc2\\xa0 (40) Yeshua said, A grapevine has been planted far from the father. Since it is not strong it will be pulled up by the root and perish. \\xc2\\xa0 (41) Yeshua said, Whoever has something in hand will be given more and whoever has nothing will be deprived of the paltry things possessed. \\xc2\\xa0 (42) Yeshua said, Be passersby. \\xc2\\xa0 (43) His students said to him, Who are you to say these things to us? \\xc2\\xa0 Yeshua said, From what I tell you, you do not know who I am, but you have become like the Jews. They love the tree but hate its fruit or love the fruit but hate the tree. \\xc2\\xa0 (44) Yeshua said, Whoever blasphemes against the father will be forgiven, and whoever blasphemes against the son will be forgiven, but whoever blasphemes against the holy spirit will not be forgiven, either on earth or in heaven. \\xc2\\xa0 (45) Yeshua said, Grapes are not harvested from thorn trees, nor are figs gathered from thistles. They yield no fruit. A good person brings forth good from the storehouse. A bad person brings forth evil things from the corrupt storehouse in the heart and says evil things. From the abundance of the heart such a person brings forth evil. \\xc2\\xa0 (46) Yeshua said, From Adam to Yohanan the baptizer, among those born of women, no one of you is so much greater than Yohanan that your eyes should not be averted. But I have said that whoever among you becomes a child will know the kingdom and become greater than Yohanan. \\xc2\\xa0 (47) Yeshua said, A person cannot mount two horses or bend two bows, and a servant cannot serve two masters, or the servant will honor one and offend the other. No one who drinks aged wine suddenly wants to drink new wine. New wine is not poured into aged wineskins or they may break, and aged wine is not poured into a new wineskin or it may spoil. An old patch is not sewn onto a new garment or it may tear. \\xc2\\xa0 (48) Yeshua said, If two make peace with each other in one house, they will tell the mountain, \\xe2\\x80\\x9cMove,\\xe2\\x80\\x9d and the mountain will move. \\xc2\\xa0 (49) Yeshua said, Blessings on you who are alone and chosen, for you will find the kingdom. You have come from it and will return there again. \\xc2\\xa0 (50) Yeshua said, If they say to you, \\xe2\\x80\\x9cWhere have you come from?\\xe2\\x80\\x9d say to them, \\xe2\\x80\\x9cWe have come from the light, from the place where the light came into being by itself, established itself, and appeared in their image.\\xe2\\x80\\x9d If they say to you, \\xe2\\x80\\x9cIs it you?\\xe2\\x80\\x9d say, \\xe2\\x80\\x9cWe are its children and the chosen of the living father.\\xe2\\x80\\x9d If they ask you, \\xe2\\x80\\x9cWhat is the evidence of your father in you?\\xe2\\x80\\x9d say to them, \\xe2\\x80\\x9cIt is motion and rest.\\xe2\\x80\\x9d \\xc2\\xa0 (51) His students said to him, When will the dead rest? When will the new world come? He said to them, What you look for has come but you do not know it. \\xc2\\xa0 (52) His students said to him, Twenty-four prophets have spoken in Israel and they all spoke of you. \\xc2\\xa0 He said to them, You have disregarded the living one among you and have spoken of the dead. \\xc2\\xa0 (53) His students said to him, Is circumcision useful or not? \\xc2\\xa0 He said to them, If it were useful, fathers would produce their children already circumcised from their mothers. But the true circumcision in spirit is altogether valuable. \\xc2\\xa0 (54) Yeshua said, Blessings on you the poor, for yours is the kingdom of heaven. \\xc2\\xa0 (55) Yeshua said, Those who do not hate their father and mother cannot be my students, and those who do not hate their brothers and sisters and bear the cross \\xc2\\xa0as I do will not be worthy of me. \\xc2\\xa0 (56) Yeshua said, Whoever has come to know the world has discovered a carcass, and whoever has discovered a carcass, of that person the world is not worthy. \\xc2\\xa0 (57) Yeshua said, The father\\xe2\\x80\\x99s kingdom is like someone with good seed. His enemy came at night and sowed weeds among the good seed. He did not let them pull up the weeds but said to them, \\xe2\\x80\\x9cNo, or you might go to pull up the weeds and pull up the wheat along with them.\\xe2\\x80\\x9d On harvest day the weeds will be conspicuous and will be pulled up and burned. \\xc2\\xa0 (58) Yeshua said, Blessings on the person who has labored and found life. \\xc2\\xa0 (59) Yeshua said, Look to the living one as long as you live or you may die and try to see the living one and you will not be able to see. \\xc2\\xa0 (60) He saw a Samaritan carrying a lamb as he was going to the land of Yehuda. \\xc2\\xa0 He said to his students, That person is carrying the lamb around. \\xc2\\xa0 They said to him, Then he may kill it and eat it. \\xc2\\xa0 He said to them, He will not eat it while it is alive but only after he has killed it and it has become a carcass. \\xc2\\xa0 They said, Otherwise he cannot do it. \\xc2\\xa0 He said to them, So with you. Seek a place of rest or you may become a carcass and be eaten. \\xc2\\xa0 (61) Yeshua said, Two will rest on a couch. One will die, one will live. \\xc2\\xa0 Salome said, Who are you, mister? You have climbed on my couch and eaten from my table as if you are from someone. \\xc2\\xa0 Yeshua said to her, I am the one who comes from what is whole. I was given from the things of my father. \\xc2\\xa0 Salome said, I am your student. \\xc2\\xa0 Yeshua said, I say, if you are whole, \\xc2\\xa0you will be filled with light, but if divided, you will be filled with darkness. \\xc2\\xa0 (62) Yeshua said, I disclose my mysteries to those who are worthy of my mysteries. Do not let your left hand know what your right hand is doing. \\xc2\\xa0 (63) Yeshua said, There was a rich person who was very wealthy. He said, \\xe2\\x80\\x9cI shall invest my money so I may sow, reap, plant, and fill my storehouses with produce. Then I shall lack nothing.\\xe2\\x80\\x9d This is what he was thinking in his heart, but that very night he died. Whoever has ears should hear. \\xc2\\xa0 (64) Yeshua said, A person was receiving guests. When he prepared the dinner he sent his servant to invite the guests. The servant went to the first and said, \\xe2\\x80\\x9cMy master invites you.\\xe2\\x80\\x9d \\xc2\\xa0 That person said, \\xe2\\x80\\x9cSome merchants owe me money. They are coming tonight. I must go and give them instructions. Please excuse me from dinner.\\xe2\\x80\\x9d \\xc2\\xa0 The servant went to another and said, \\xe2\\x80\\x9cMy master invites you.\\xe2\\x80\\x9d \\xc2\\xa0 He said to the servant, \\xe2\\x80\\x9cI have bought a house and I\\xe2\\x80\\x99ve been called away for a day. I have no time.\\xe2\\x80\\x9d \\xc2\\xa0 The servant went to another and said, \\xe2\\x80\\x9cMy master invites you.\\xe2\\x80\\x9d \\xc2\\xa0 He said to the servant, \\xe2\\x80\\x9cMy friend is to be married and I am to arrange the banquet. I can\\xe2\\x80\\x99t come. Please excuse me from dinner.\\xe2\\x80\\x9d \\xc2\\xa0 The servant went to another and said, \\xe2\\x80\\x9cMy master invites you.\\xe2\\x80\\x9d \\xc2\\xa0 He said to the servant, \\xe2\\x80\\x9cI have bought an estate and I am going to collect rent. I shall not be able to come. Please excuse me.\\xe2\\x80\\x9d \\xc2\\xa0 The servant returned and said to his master, \\xe2\\x80\\x9cThose you invited to dinner have asked to be excused.\\xe2\\x80\\x9d \\xc2\\xa0 The master said to his servant, \\xe2\\x80\\x9cGo out into the streets and invite whomever you find for the dinner. Buyers and merchants will not enter the places of my father.\\xe2\\x80\\x9d \\xc2\\xa0 (65) He said, A usurer \\xc2\\xa0owned a vineyard and rented it to some farmers to work it and from them he would collect its produce. He sent his servant for the farmers to give him the produce of the vineyard. They seized, beat, and almost killed his servant, who returned and told his master. His master said, \\xe2\\x80\\x9cPerhaps he did not know them.\\xe2\\x80\\x9d And he sent another servant, but they beat him as well. Then the master sent his son and said, \\xe2\\x80\\x9cPerhaps they will respect my son.\\xe2\\x80\\x9d Since the farmers knew the son was the heir of the vineyard, they seized him and killed him. Whoever has ears should hear. \\xc2\\xa0 (66) Yeshua said, Show me the stone that the builders rejected. That is the cornerstone. \\xc2\\xa0 (67) Yeshua said, One who knows all but lacks within is utterly lacking. \\xc2\\xa0 (68) Yeshua said, Blessings on you when you are hated and persecuted, and no place will be found, wherever you are persecuted. \\xc2\\xa0 (69) Yeshua said, Blessings on you who have been persecuted in your hearts. Only you truly know the father. Blessings on you who are hungry that the stomach of someone else in want may be filled. \\xc2\\xa0 (70) Yeshua said, If you bring forth what is within you, what you have will save you. If you have nothing within you, what you do not have within you will kill you. \\xc2\\xa0 (71) Yeshua said, I shall destroy this house and no one will be able to rebuild it. \\xc2\\xa0 (72) Someone said to him, Tell my brothers to divide my father\\xe2\\x80\\x99s possessions with me. \\xc2\\xa0 He said to the person, Mister, who made me a divider? \\xc2\\xa0 He turned to his students and said to them, I am not a divider, am I? \\xc2\\xa0 (73) Yeshua said, The harvest is large but the workers are few. Beg the master to send out workers to the harvest. \\xc2\\xa0 (74) He said, Master, there are many around the drinking trough but nothing in the well. \\xc2\\xa0 (75) Yeshua said, There are many standing at the door but those who are alone will enter the wedding chamber. \\xc2\\xa0 (76) Yeshua said, The father\\xe2\\x80\\x99s kingdom is like a merchant who owned a supply of merchandise and found a pearl. The merchant was prudent. He sold his goods and bought the single pearl for himself. So with you. Seek his treasure that is unfailing and enduring, where no moth comes to devour and no worm destroys. \\xc2\\xa0 (77) Yeshua said, I am the light over all things. I am all. From me all has come forth, and to me all has reached. Split a piece of wood. I am there. Lift up the stone and you will find me there. \\xc2\\xa0 (78) Yeshua said, Why have you come out to the countryside? To see a reed shaken by the wind? Or to see a person dressed in soft clothes like your rulers and your people of power? They are dressed in soft clothes and cannot understand truth. \\xc2\\xa0 (79) A woman in the crowd said to him, Blessings on the womb that bore you and the breasts that fed you. \\xc2\\xa0 He said to her, Blessings on those who have heard the word of the father and have truly kept it. Days will come when you will say, \\xe2\\x80\\x9cBlessings on the womb that has not conceived and the breasts that have not given milk.\\xe2\\x80\\x9d \\xc2\\xa0 (80) Yeshua said, Whoever has come to know the world has discovered the body, and whoever has discovered the body, of that person the world is not worthy. \\xc2\\xa0 (81) Yeshua said, Let a person of wealth rule, and a person of power renounce it. \\xc2\\xa0 (82) Yeshua said, Whoever is near me is near fire, and whoever is far from me is far from the kingdom. \\xc2\\xa0 (83) Yeshua said, You see images, but the light within them is hidden in the image of the father\\xe2\\x80\\x99s light. He will be disclosed, but his image is hidden by his light. \\xc2\\xa0 (84) Yeshua said, When you see your likeness you are happy. But when you see your images that came into being before you and that neither die nor become visible, how much you will bear! \\xc2\\xa0 (85) Yeshua said, Adam came from great power and great wealth, but he was not worthy of you. Had he been worthy, he would not have tasted death. \\xc2\\xa0 (86) Yeshua said, Foxes have their dens \\xc2\\xa0and birds have their nests, but the human child \\xc2\\xa0has no place to lay his head and rest. \\xc2\\xa0 (87) Yeshua said, How miserable is the body that depends on a body, and how miserable is the soul that depends on both. \\xc2\\xa0 (88) Yeshua said, The messengers and the prophets will come to you and give you what is yours. You give them what you have and wonder, \\xe2\\x80\\x9cWhen will they come and take what is theirs?\\xe2\\x80\\x9d \\xc2\\xa0 (89) Yeshua said, Why do you wash the outside of the cup? Don\\xe2\\x80\\x99t you understand that the one who made the inside also made the outside? \\xc2\\xa0 (90) Yeshua said, Come to me, for my yoke is easy and my mastery gentle, and you will find rest for yourselves. \\xc2\\xa0 (91) They said to him, Tell us who you are so that we may believe in you. \\xc2\\xa0 He said to them, You examine the face of heaven and earth but you have not come to know the one who is in your presence, and you do not know how to examine this moment. \\xc2\\xa0 (92) Yeshua said, Seek and you will find. In the past I did not tell you the things about which you asked me. Now I am willing to tell you, but you do not seek them. \\xc2\\xa0 (93) Do not give what is holy to dogs. They might throw them upon the manure pile. Do not throw pearls to swine. They might make mud of it. \\xc2\\xa0 (94) Yeshua said, One who seeks will find. For one who knocks it will be opened. \\xc2\\xa0 (95) Yeshua said, If you have money, do not lend it at interest, but give it to someone from whom you will not get it back. \\xc2\\xa0 (96) Yeshua said, The father\\xe2\\x80\\x99s kingdom is like a woman who took a little yeast, hid it in dough, and made large loaves of bread. Whoever has ears should hear. \\xc2\\xa0 (97) Yeshua said, The father\\xe2\\x80\\x99s kingdom is like a woman who was carrying a jar full of meal. While she was walking along a distant road, the handle of the jar broke and the meal spilled behind her along the road. She did not know it. She noticed no problem. When she reached her house she put the jar down and found it empty. \\xc2\\xa0 (98) Yeshua said, The father\\xe2\\x80\\x99s kingdom is like a person who wanted to put someone powerful to death. While at home he drew his sword and thrust it into the wall to find out whether his hand would go in. Then he killed the powerful person. \\xc2\\xa0 (99) The students said to him, Your brothers and your mother are standing outside. \\xc2\\xa0 He said to them, Those here who do the will of my father are my brothers and my mother. They will enter my father\\xe2\\x80\\x99s kingdom. \\xc2\\xa0 (100) They showed Yeshua a gold coin and said to him, Caesar\\xe2\\x80\\x99s people demand taxes from us. \\xc2\\xa0 He said to them, Give Caesar the things that are Caesar\\xe2\\x80\\x99s, give god the things that are god\\xe2\\x80\\x99s, and give me what is mine. \\xc2\\xa0 (101) Those who do not hate their father and mother as I do cannot be my students, and those who do not love their father and mother as I do cannot be my students. For my mother gave me falsehood, but my true mother gave me life. \\xc2\\xa0 (102) Yeshua said, Shame on the Pharisees. They are like a dog sleeping in the cattle manger. It does not eat or let the cattle eat. \\xc2\\xa0 (103) Yeshua said, Blessings on you if you know where the robbers will enter so you can wake up, rouse your estate, and arm yourself before they break in. \\xc2\\xa0 (104) They said to Yeshua, Come let us pray today and fast. \\xc2\\xa0 Yeshua said, What sin have I committed or how have I been undone? \\xc2\\xa0 When the bridegroom leaves the wedding chamber, then let the people fast and pray. \\xc2\\xa0 (105) Yeshua said, Whoever knows the father and the mother will be called the child of a whore. \\xc2\\xa0 (106) Yeshua said, When you make two into one, you will become human children. When you say, \\xe2\\x80\\x9cMountain, move,\\xe2\\x80\\x9d the mountain will move. \\xc2\\xa0 (107) Yeshua said, The kingdom is like a shepherd who had a hundred sheep. One of them, the largest, went astray. He left the ninety-nine and looked for the one until he found it. After so much trouble he said to the sheep, \\xe2\\x80\\x9cI love you more than the ninety-nine.\\xe2\\x80\\x9d \\xc2\\xa0 (108) Yeshua said, Whoever drinks from my mouth will become like me. I myself shall become that person, and the hidden things will be revealed to that one. \\xc2\\xa0 (109) Yeshua said, The kingdom is like a person who had a treasure hidden in his field. He did not know it, and when he died, he left it to his son. The son did not know about it. He took over the field and sold it. The buyer was plowing and found the treasure, and began to lend money at interest to whomever he wished. \\xc2\\xa0 (110) Yeshua said, You who have found the world and become wealthy, renounce the world. \\xc2\\xa0 (111) Yeshua said, The heavens and earth will roll up in your presence and you who live from the living one will not see death. \\xc2\\xa0 Doesn\\xe2\\x80\\x99t Yeshua say this? Whoever has found oneself, of that person the world is not worthy. \\xc2\\xa0 (112) Yeshua said, Shame on the flesh that depends on the soul. Shame on the soul that depends on the flesh. \\xc2\\xa0 (113) His students said to him, When will the kingdom come? \\xc2\\xa0 Yeshua said, It will not come because you are watching for it. No one will announce, \\xe2\\x80\\x9cLook, here it is,\\xe2\\x80\\x9d or \\xe2\\x80\\x9cLook, there it is.\\xe2\\x80\\x9d The father\\xe2\\x80\\x99s kingdom is spread out upon the earth and people do not see it. \\xc2\\xa0 (114) Shimon Kefa said to them, Miryam should leave us. Females are not worthy of life. \\xc2\\xa0 Yeshua said, Look, I shall guide her to make her male, so she too may become a living spirit resembling you males. For every female who makes herself male will enter the kingdom of heaven. </p></blockquote></blockquote><p align=\"center\">\\xc2\\xa0</p><h6 align=\"center\"><font face=\"Arial\"><span style=\"background-color: rgb(224,224,224)\">| <a href=\"nhl.html\">Nag Hammadi Library </a>| <a href=\"../library.html\">Gnostic Society Library </a>| <a href=\"../welcome.html\">Gnosis Archive </a>|</span></font></h6></td></tr></table></body></html>'"
      ]
     },
     "execution_count": 72,
     "metadata": {},
     "output_type": "execute_result"
    }
   ],
   "source": [
    "\n",
    "translations[\"Meyer Translation\"][1]\n"
   ]
  },
  {
   "cell_type": "code",
   "execution_count": null,
   "metadata": {
    "collapsed": true
   },
   "outputs": [],
   "source": []
  }
 ],
 "metadata": {
  "kernelspec": {
   "display_name": "Python 2",
   "language": "python",
   "name": "python2"
  },
  "language_info": {
   "codemirror_mode": {
    "name": "ipython",
    "version": 2
   },
   "file_extension": ".py",
   "mimetype": "text/x-python",
   "name": "python",
   "nbconvert_exporter": "python",
   "pygments_lexer": "ipython2",
   "version": "2.7.10"
  }
 },
 "nbformat": 4,
 "nbformat_minor": 2
}
